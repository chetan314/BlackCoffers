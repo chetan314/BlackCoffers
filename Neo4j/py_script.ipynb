{
 "cells": [
  {
   "attachments": {},
   "cell_type": "markdown",
   "metadata": {},
   "source": [
    "Setting up the authorization "
   ]
  },
  {
   "cell_type": "code",
   "execution_count": 1,
   "metadata": {},
   "outputs": [],
   "source": [
    "from neo4j import GraphDatabase\n",
    "graphdb = GraphDatabase.driver(uri = \"bolt://localhost:7687\", auth = (\"neo4j\",\"chetan08\"))\n",
    "session = graphdb.session() "
   ]
  },
  {
   "attachments": {},
   "cell_type": "markdown",
   "metadata": {},
   "source": [
    "Returning whole data"
   ]
  },
  {
   "cell_type": "code",
   "execution_count": 2,
   "metadata": {},
   "outputs": [
    {
     "name": "stdout",
     "output_type": "stream",
     "text": [
      "<Record n=<Node element_id='4:382d468f-3b53-4274-b65c-961905164e73:179' labels=frozenset({'PLAYER'}) properties={'number': 0, 'name': 'Russell Westbrook', 'weight': 91, 'age': 33, 'height': 1.91}>>\n",
      "<Record n=<Node element_id='4:382d468f-3b53-4274-b65c-961905164e73:180' labels=frozenset({'PLAYER'}) properties={'number': 6, 'name': 'LeBron James', 'weight': 113, 'age': 36, 'height': 2.06}>>\n",
      "<Record n=<Node element_id='4:382d468f-3b53-4274-b65c-961905164e73:181' labels=frozenset({'PLAYER'}) properties={'number': 23, 'name': 'Anthony Davis', 'weight': 115, 'age': 28, 'height': 2.08}>>\n",
      "<Record n=<Node element_id='4:382d468f-3b53-4274-b65c-961905164e73:182' labels=frozenset({'PLAYER'}) properties={'number': 12, 'name': 'Ja Morant', 'weight': 79, 'age': 22, 'height': 1.91}>>\n",
      "<Record n=<Node element_id='4:382d468f-3b53-4274-b65c-961905164e73:183' labels=frozenset({'PLAYER'}) properties={'number': 77, 'name': 'Luka Doncic', 'weight': 104, 'age': 22, 'height': 2.01}>>\n",
      "<Record n=<Node element_id='4:382d468f-3b53-4274-b65c-961905164e73:184' labels=frozenset({'PLAYER'}) properties={'number': 6, 'name': 'Kristaps Porzingis', 'weight': 109, 'age': 26, 'height': 2.21}>>\n",
      "<Record n=<Node element_id='4:382d468f-3b53-4274-b65c-961905164e73:185' labels=frozenset({'PLAYER'}) properties={'number': 7, 'name': 'Kevin Durant', 'weight': 109, 'age': 33, 'height': 2.08}>>\n",
      "<Record n=<Node element_id='4:382d468f-3b53-4274-b65c-961905164e73:186' labels=frozenset({'PLAYER'}) properties={'number': 13, 'name': 'James Harden', 'weight': 100, 'age': 32, 'height': 1.96}>>\n",
      "<Record n=<Node element_id='4:382d468f-3b53-4274-b65c-961905164e73:187' labels=frozenset({'PLAYER'}) properties={'number': 34, 'name': 'Giannis Antetokounmpo', 'weight': 110, 'age': 26, 'height': 2.11}>>\n",
      "<Record n=<Node element_id='4:382d468f-3b53-4274-b65c-961905164e73:188' labels=frozenset({'PLAYER'}) properties={'number': 22, 'name': 'Khris Middleton', 'weight': 100, 'age': 30, 'height': 2.01}>>\n",
      "<Record n=<Node element_id='4:382d468f-3b53-4274-b65c-961905164e73:189' labels=frozenset({'PLAYER'}) properties={'number': 21, 'name': 'Joel Embiid', 'weight': 127, 'age': 27, 'height': 2.13}>>\n",
      "<Record n=<Node element_id='4:382d468f-3b53-4274-b65c-961905164e73:190' labels=frozenset({'PLAYER'}) properties={'number': 22, 'name': 'Tobias Harris', 'weight': 100, 'age': 29, 'height': 2.03}>>\n",
      "<Record n=<Node element_id='4:382d468f-3b53-4274-b65c-961905164e73:191' labels=frozenset({'COACH'}) properties={'name': 'Frank Vogel'}>>\n",
      "<Record n=<Node element_id='4:382d468f-3b53-4274-b65c-961905164e73:192' labels=frozenset({'COACH'}) properties={'name': 'Taylor Jenkins'}>>\n",
      "<Record n=<Node element_id='4:382d468f-3b53-4274-b65c-961905164e73:193' labels=frozenset({'COACH'}) properties={'name': 'Jason Kidd'}>>\n",
      "<Record n=<Node element_id='4:382d468f-3b53-4274-b65c-961905164e73:194' labels=frozenset({'COACH'}) properties={'name': 'Steve Nash'}>>\n",
      "<Record n=<Node element_id='4:382d468f-3b53-4274-b65c-961905164e73:195' labels=frozenset({'COACH'}) properties={'name': 'Mike Budenholzer'}>>\n",
      "<Record n=<Node element_id='4:382d468f-3b53-4274-b65c-961905164e73:196' labels=frozenset({'COACH'}) properties={'name': 'Doc Rivers'}>>\n",
      "<Record n=<Node element_id='4:382d468f-3b53-4274-b65c-961905164e73:197' labels=frozenset({'COACH'}) properties={'name': 'Stan Van Gundy'}>>\n",
      "<Record n=<Node element_id='4:382d468f-3b53-4274-b65c-961905164e73:198' labels=frozenset({'TEAM'}) properties={'name': 'LA Lakers'}>>\n",
      "<Record n=<Node element_id='4:382d468f-3b53-4274-b65c-961905164e73:199' labels=frozenset({'TEAM'}) properties={'name': 'Memphis Grizzlies'}>>\n",
      "<Record n=<Node element_id='4:382d468f-3b53-4274-b65c-961905164e73:200' labels=frozenset({'TEAM'}) properties={'name': 'Dallas Mavericks'}>>\n",
      "<Record n=<Node element_id='4:382d468f-3b53-4274-b65c-961905164e73:201' labels=frozenset({'TEAM'}) properties={'name': 'Brooklyn Nets'}>>\n",
      "<Record n=<Node element_id='4:382d468f-3b53-4274-b65c-961905164e73:202' labels=frozenset({'TEAM'}) properties={'name': 'Milwaukee Bucks'}>>\n",
      "<Record n=<Node element_id='4:382d468f-3b53-4274-b65c-961905164e73:203' labels=frozenset({'TEAM'}) properties={'name': 'Philadelphia 76ers'}>>\n"
     ]
    }
   ],
   "source": [
    "q1 = 'match (n) return (n)'\n",
    "nodes = session.run(q1)\n",
    "for node in nodes:\n",
    "    print (node)"
   ]
  },
  {
   "cell_type": "code",
   "execution_count": 3,
   "metadata": {},
   "outputs": [
    {
     "name": "stdout",
     "output_type": "stream",
     "text": [
      "<Record Name='Russell Westbrook' Height=1.91>\n",
      "<Record Name='LeBron James' Height=2.06>\n",
      "<Record Name='Anthony Davis' Height=2.08>\n",
      "<Record Name='Ja Morant' Height=1.91>\n",
      "<Record Name='Luka Doncic' Height=2.01>\n",
      "<Record Name='Kristaps Porzingis' Height=2.21>\n",
      "<Record Name='Kevin Durant' Height=2.08>\n",
      "<Record Name='James Harden' Height=1.96>\n",
      "<Record Name='Giannis Antetokounmpo' Height=2.11>\n",
      "<Record Name='Khris Middleton' Height=2.01>\n",
      "<Record Name='Joel Embiid' Height=2.13>\n",
      "<Record Name='Tobias Harris' Height=2.03>\n"
     ]
    }
   ],
   "source": [
    "q1 = 'match (player : PLAYER) return player.name as Name , player.height as Height'\n",
    "nodes = session.run(q1)\n",
    "for node in nodes:\n",
    "    print (node)"
   ]
  },
  {
   "attachments": {},
   "cell_type": "markdown",
   "metadata": {},
   "source": [
    "Querying Node"
   ]
  },
  {
   "cell_type": "code",
   "execution_count": 5,
   "metadata": {},
   "outputs": [
    {
     "name": "stdout",
     "output_type": "stream",
     "text": [
      "<Record player=<Node element_id='4:382d468f-3b53-4274-b65c-961905164e73:180' labels=frozenset({'PLAYER'}) properties={'number': 6, 'name': 'LeBron James', 'weight': 113, 'age': 36, 'height': 2.06}>>\n"
     ]
    }
   ],
   "source": [
    "q1 = 'match (player : PLAYER) where (player.name = \"LeBron James\") return player' # will return node \n",
    "nodes = session.run(q1)\n",
    "for node in nodes:\n",
    "    print (node)"
   ]
  },
  {
   "cell_type": "code",
   "execution_count": 8,
   "metadata": {},
   "outputs": [
    {
     "name": "stdout",
     "output_type": "stream",
     "text": [
      "<Record player=<Node element_id='4:382d468f-3b53-4274-b65c-961905164e73:180' labels=frozenset({'PLAYER'}) properties={'number': 6, 'name': 'LeBron James', 'weight': 113, 'age': 36, 'height': 2.06}>>\n"
     ]
    }
   ],
   "source": [
    "q1 = 'match (player : PLAYER {name  : \"LeBron James\"}) return player'\n",
    "nodes = session.run(q1)\n",
    "for node in nodes:\n",
    "    print (node)"
   ]
  },
  {
   "attachments": {},
   "cell_type": "markdown",
   "metadata": {},
   "source": [
    "Arithmetic ops"
   ]
  },
  {
   "cell_type": "code",
   "execution_count": 9,
   "metadata": {},
   "outputs": [
    {
     "name": "stdout",
     "output_type": "stream",
     "text": [
      "<Record player=<Node element_id='4:382d468f-3b53-4274-b65c-961905164e73:180' labels=frozenset({'PLAYER'}) properties={'number': 6, 'name': 'LeBron James', 'weight': 113, 'age': 36, 'height': 2.06}>>\n",
      "<Record player=<Node element_id='4:382d468f-3b53-4274-b65c-961905164e73:181' labels=frozenset({'PLAYER'}) properties={'number': 23, 'name': 'Anthony Davis', 'weight': 115, 'age': 28, 'height': 2.08}>>\n",
      "<Record player=<Node element_id='4:382d468f-3b53-4274-b65c-961905164e73:183' labels=frozenset({'PLAYER'}) properties={'number': 77, 'name': 'Luka Doncic', 'weight': 104, 'age': 22, 'height': 2.01}>>\n",
      "<Record player=<Node element_id='4:382d468f-3b53-4274-b65c-961905164e73:185' labels=frozenset({'PLAYER'}) properties={'number': 7, 'name': 'Kevin Durant', 'weight': 109, 'age': 33, 'height': 2.08}>>\n",
      "<Record player=<Node element_id='4:382d468f-3b53-4274-b65c-961905164e73:186' labels=frozenset({'PLAYER'}) properties={'number': 13, 'name': 'James Harden', 'weight': 100, 'age': 32, 'height': 1.96}>>\n",
      "<Record player=<Node element_id='4:382d468f-3b53-4274-b65c-961905164e73:189' labels=frozenset({'PLAYER'}) properties={'number': 21, 'name': 'Joel Embiid', 'weight': 127, 'age': 27, 'height': 2.13}>>\n"
     ]
    }
   ],
   "source": [
    "#BMI\n",
    "q1 = 'match (player : PLAYER) where (player.weight/(player.height*player.height) >= 25) return player'\n",
    "nodes = session.run(q1)\n",
    "for node in nodes:\n",
    "    print (node)"
   ]
  },
  {
   "attachments": {},
   "cell_type": "markdown",
   "metadata": {},
   "source": [
    "Multiple Conditions, where not and limit "
   ]
  },
  {
   "cell_type": "code",
   "execution_count": 10,
   "metadata": {},
   "outputs": [
    {
     "name": "stdout",
     "output_type": "stream",
     "text": [
      "<Record player=<Node element_id='4:382d468f-3b53-4274-b65c-961905164e73:186' labels=frozenset({'PLAYER'}) properties={'number': 13, 'name': 'James Harden', 'weight': 100, 'age': 32, 'height': 1.96}>>\n"
     ]
    }
   ],
   "source": [
    "q1 = 'match (player : PLAYER) WHERE player.weight >= 100 AND player.height <=2 return player'\n",
    "nodes = session.run(q1)\n",
    "for node in nodes:\n",
    "    print (node)"
   ]
  },
  {
   "cell_type": "code",
   "execution_count": 12,
   "metadata": {},
   "outputs": [
    {
     "name": "stdout",
     "output_type": "stream",
     "text": [
      "<Record player=<Node element_id='4:382d468f-3b53-4274-b65c-961905164e73:179' labels=frozenset({'PLAYER'}) properties={'number': 0, 'name': 'Russell Westbrook', 'weight': 91, 'age': 33, 'height': 1.91}>>\n",
      "<Record player=<Node element_id='4:382d468f-3b53-4274-b65c-961905164e73:180' labels=frozenset({'PLAYER'}) properties={'number': 6, 'name': 'LeBron James', 'weight': 113, 'age': 36, 'height': 2.06}>>\n",
      "<Record player=<Node element_id='4:382d468f-3b53-4274-b65c-961905164e73:181' labels=frozenset({'PLAYER'}) properties={'number': 23, 'name': 'Anthony Davis', 'weight': 115, 'age': 28, 'height': 2.08}>>\n",
      "<Record player=<Node element_id='4:382d468f-3b53-4274-b65c-961905164e73:182' labels=frozenset({'PLAYER'}) properties={'number': 12, 'name': 'Ja Morant', 'weight': 79, 'age': 22, 'height': 1.91}>>\n",
      "<Record player=<Node element_id='4:382d468f-3b53-4274-b65c-961905164e73:183' labels=frozenset({'PLAYER'}) properties={'number': 77, 'name': 'Luka Doncic', 'weight': 104, 'age': 22, 'height': 2.01}>>\n",
      "<Record player=<Node element_id='4:382d468f-3b53-4274-b65c-961905164e73:184' labels=frozenset({'PLAYER'}) properties={'number': 6, 'name': 'Kristaps Porzingis', 'weight': 109, 'age': 26, 'height': 2.21}>>\n",
      "<Record player=<Node element_id='4:382d468f-3b53-4274-b65c-961905164e73:185' labels=frozenset({'PLAYER'}) properties={'number': 7, 'name': 'Kevin Durant', 'weight': 109, 'age': 33, 'height': 2.08}>>\n",
      "<Record player=<Node element_id='4:382d468f-3b53-4274-b65c-961905164e73:187' labels=frozenset({'PLAYER'}) properties={'number': 34, 'name': 'Giannis Antetokounmpo', 'weight': 110, 'age': 26, 'height': 2.11}>>\n",
      "<Record player=<Node element_id='4:382d468f-3b53-4274-b65c-961905164e73:188' labels=frozenset({'PLAYER'}) properties={'number': 22, 'name': 'Khris Middleton', 'weight': 100, 'age': 30, 'height': 2.01}>>\n",
      "<Record player=<Node element_id='4:382d468f-3b53-4274-b65c-961905164e73:189' labels=frozenset({'PLAYER'}) properties={'number': 21, 'name': 'Joel Embiid', 'weight': 127, 'age': 27, 'height': 2.13}>>\n",
      "<Record player=<Node element_id='4:382d468f-3b53-4274-b65c-961905164e73:190' labels=frozenset({'PLAYER'}) properties={'number': 22, 'name': 'Tobias Harris', 'weight': 100, 'age': 29, 'height': 2.03}>>\n"
     ]
    }
   ],
   "source": [
    "q1 = 'match (player : PLAYER) WHERE not (player.weight >= 100 AND player.height <=2) return player'\n",
    "nodes = session.run(q1)\n",
    "for node in nodes:\n",
    "    print (node)"
   ]
  },
  {
   "cell_type": "code",
   "execution_count": 13,
   "metadata": {},
   "outputs": [
    {
     "name": "stdout",
     "output_type": "stream",
     "text": [
      "<Record player=<Node element_id='4:382d468f-3b53-4274-b65c-961905164e73:179' labels=frozenset({'PLAYER'}) properties={'number': 0, 'name': 'Russell Westbrook', 'weight': 91, 'age': 33, 'height': 1.91}>>\n",
      "<Record player=<Node element_id='4:382d468f-3b53-4274-b65c-961905164e73:180' labels=frozenset({'PLAYER'}) properties={'number': 6, 'name': 'LeBron James', 'weight': 113, 'age': 36, 'height': 2.06}>>\n",
      "<Record player=<Node element_id='4:382d468f-3b53-4274-b65c-961905164e73:181' labels=frozenset({'PLAYER'}) properties={'number': 23, 'name': 'Anthony Davis', 'weight': 115, 'age': 28, 'height': 2.08}>>\n",
      "<Record player=<Node element_id='4:382d468f-3b53-4274-b65c-961905164e73:182' labels=frozenset({'PLAYER'}) properties={'number': 12, 'name': 'Ja Morant', 'weight': 79, 'age': 22, 'height': 1.91}>>\n",
      "<Record player=<Node element_id='4:382d468f-3b53-4274-b65c-961905164e73:183' labels=frozenset({'PLAYER'}) properties={'number': 77, 'name': 'Luka Doncic', 'weight': 104, 'age': 22, 'height': 2.01}>>\n"
     ]
    }
   ],
   "source": [
    "q1 = 'match (player : PLAYER) WHERE not (player.weight >= 100 AND player.height <=2) return player limit 5'\n",
    "nodes = session.run(q1)\n",
    "for node in nodes:\n",
    "    print (node)"
   ]
  },
  {
   "attachments": {},
   "cell_type": "markdown",
   "metadata": {},
   "source": [
    "Multilabel"
   ]
  },
  {
   "cell_type": "code",
   "execution_count": 14,
   "metadata": {},
   "outputs": [
    {
     "name": "stdout",
     "output_type": "stream",
     "text": [
      "<Record player=<Node element_id='4:382d468f-3b53-4274-b65c-961905164e73:179' labels=frozenset({'PLAYER'}) properties={'number': 0, 'name': 'Russell Westbrook', 'weight': 91, 'age': 33, 'height': 1.91}> coach=<Node element_id='4:382d468f-3b53-4274-b65c-961905164e73:191' labels=frozenset({'COACH'}) properties={'name': 'Frank Vogel'}>>\n",
      "<Record player=<Node element_id='4:382d468f-3b53-4274-b65c-961905164e73:179' labels=frozenset({'PLAYER'}) properties={'number': 0, 'name': 'Russell Westbrook', 'weight': 91, 'age': 33, 'height': 1.91}> coach=<Node element_id='4:382d468f-3b53-4274-b65c-961905164e73:192' labels=frozenset({'COACH'}) properties={'name': 'Taylor Jenkins'}>>\n",
      "<Record player=<Node element_id='4:382d468f-3b53-4274-b65c-961905164e73:179' labels=frozenset({'PLAYER'}) properties={'number': 0, 'name': 'Russell Westbrook', 'weight': 91, 'age': 33, 'height': 1.91}> coach=<Node element_id='4:382d468f-3b53-4274-b65c-961905164e73:193' labels=frozenset({'COACH'}) properties={'name': 'Jason Kidd'}>>\n",
      "<Record player=<Node element_id='4:382d468f-3b53-4274-b65c-961905164e73:179' labels=frozenset({'PLAYER'}) properties={'number': 0, 'name': 'Russell Westbrook', 'weight': 91, 'age': 33, 'height': 1.91}> coach=<Node element_id='4:382d468f-3b53-4274-b65c-961905164e73:194' labels=frozenset({'COACH'}) properties={'name': 'Steve Nash'}>>\n",
      "<Record player=<Node element_id='4:382d468f-3b53-4274-b65c-961905164e73:179' labels=frozenset({'PLAYER'}) properties={'number': 0, 'name': 'Russell Westbrook', 'weight': 91, 'age': 33, 'height': 1.91}> coach=<Node element_id='4:382d468f-3b53-4274-b65c-961905164e73:195' labels=frozenset({'COACH'}) properties={'name': 'Mike Budenholzer'}>>\n",
      "<Record player=<Node element_id='4:382d468f-3b53-4274-b65c-961905164e73:179' labels=frozenset({'PLAYER'}) properties={'number': 0, 'name': 'Russell Westbrook', 'weight': 91, 'age': 33, 'height': 1.91}> coach=<Node element_id='4:382d468f-3b53-4274-b65c-961905164e73:196' labels=frozenset({'COACH'}) properties={'name': 'Doc Rivers'}>>\n",
      "<Record player=<Node element_id='4:382d468f-3b53-4274-b65c-961905164e73:179' labels=frozenset({'PLAYER'}) properties={'number': 0, 'name': 'Russell Westbrook', 'weight': 91, 'age': 33, 'height': 1.91}> coach=<Node element_id='4:382d468f-3b53-4274-b65c-961905164e73:197' labels=frozenset({'COACH'}) properties={'name': 'Stan Van Gundy'}>>\n",
      "<Record player=<Node element_id='4:382d468f-3b53-4274-b65c-961905164e73:180' labels=frozenset({'PLAYER'}) properties={'number': 6, 'name': 'LeBron James', 'weight': 113, 'age': 36, 'height': 2.06}> coach=<Node element_id='4:382d468f-3b53-4274-b65c-961905164e73:191' labels=frozenset({'COACH'}) properties={'name': 'Frank Vogel'}>>\n",
      "<Record player=<Node element_id='4:382d468f-3b53-4274-b65c-961905164e73:180' labels=frozenset({'PLAYER'}) properties={'number': 6, 'name': 'LeBron James', 'weight': 113, 'age': 36, 'height': 2.06}> coach=<Node element_id='4:382d468f-3b53-4274-b65c-961905164e73:192' labels=frozenset({'COACH'}) properties={'name': 'Taylor Jenkins'}>>\n",
      "<Record player=<Node element_id='4:382d468f-3b53-4274-b65c-961905164e73:180' labels=frozenset({'PLAYER'}) properties={'number': 6, 'name': 'LeBron James', 'weight': 113, 'age': 36, 'height': 2.06}> coach=<Node element_id='4:382d468f-3b53-4274-b65c-961905164e73:193' labels=frozenset({'COACH'}) properties={'name': 'Jason Kidd'}>>\n",
      "<Record player=<Node element_id='4:382d468f-3b53-4274-b65c-961905164e73:180' labels=frozenset({'PLAYER'}) properties={'number': 6, 'name': 'LeBron James', 'weight': 113, 'age': 36, 'height': 2.06}> coach=<Node element_id='4:382d468f-3b53-4274-b65c-961905164e73:194' labels=frozenset({'COACH'}) properties={'name': 'Steve Nash'}>>\n",
      "<Record player=<Node element_id='4:382d468f-3b53-4274-b65c-961905164e73:180' labels=frozenset({'PLAYER'}) properties={'number': 6, 'name': 'LeBron James', 'weight': 113, 'age': 36, 'height': 2.06}> coach=<Node element_id='4:382d468f-3b53-4274-b65c-961905164e73:195' labels=frozenset({'COACH'}) properties={'name': 'Mike Budenholzer'}>>\n",
      "<Record player=<Node element_id='4:382d468f-3b53-4274-b65c-961905164e73:180' labels=frozenset({'PLAYER'}) properties={'number': 6, 'name': 'LeBron James', 'weight': 113, 'age': 36, 'height': 2.06}> coach=<Node element_id='4:382d468f-3b53-4274-b65c-961905164e73:196' labels=frozenset({'COACH'}) properties={'name': 'Doc Rivers'}>>\n",
      "<Record player=<Node element_id='4:382d468f-3b53-4274-b65c-961905164e73:180' labels=frozenset({'PLAYER'}) properties={'number': 6, 'name': 'LeBron James', 'weight': 113, 'age': 36, 'height': 2.06}> coach=<Node element_id='4:382d468f-3b53-4274-b65c-961905164e73:197' labels=frozenset({'COACH'}) properties={'name': 'Stan Van Gundy'}>>\n",
      "<Record player=<Node element_id='4:382d468f-3b53-4274-b65c-961905164e73:181' labels=frozenset({'PLAYER'}) properties={'number': 23, 'name': 'Anthony Davis', 'weight': 115, 'age': 28, 'height': 2.08}> coach=<Node element_id='4:382d468f-3b53-4274-b65c-961905164e73:191' labels=frozenset({'COACH'}) properties={'name': 'Frank Vogel'}>>\n",
      "<Record player=<Node element_id='4:382d468f-3b53-4274-b65c-961905164e73:181' labels=frozenset({'PLAYER'}) properties={'number': 23, 'name': 'Anthony Davis', 'weight': 115, 'age': 28, 'height': 2.08}> coach=<Node element_id='4:382d468f-3b53-4274-b65c-961905164e73:192' labels=frozenset({'COACH'}) properties={'name': 'Taylor Jenkins'}>>\n",
      "<Record player=<Node element_id='4:382d468f-3b53-4274-b65c-961905164e73:181' labels=frozenset({'PLAYER'}) properties={'number': 23, 'name': 'Anthony Davis', 'weight': 115, 'age': 28, 'height': 2.08}> coach=<Node element_id='4:382d468f-3b53-4274-b65c-961905164e73:193' labels=frozenset({'COACH'}) properties={'name': 'Jason Kidd'}>>\n",
      "<Record player=<Node element_id='4:382d468f-3b53-4274-b65c-961905164e73:181' labels=frozenset({'PLAYER'}) properties={'number': 23, 'name': 'Anthony Davis', 'weight': 115, 'age': 28, 'height': 2.08}> coach=<Node element_id='4:382d468f-3b53-4274-b65c-961905164e73:194' labels=frozenset({'COACH'}) properties={'name': 'Steve Nash'}>>\n",
      "<Record player=<Node element_id='4:382d468f-3b53-4274-b65c-961905164e73:181' labels=frozenset({'PLAYER'}) properties={'number': 23, 'name': 'Anthony Davis', 'weight': 115, 'age': 28, 'height': 2.08}> coach=<Node element_id='4:382d468f-3b53-4274-b65c-961905164e73:195' labels=frozenset({'COACH'}) properties={'name': 'Mike Budenholzer'}>>\n",
      "<Record player=<Node element_id='4:382d468f-3b53-4274-b65c-961905164e73:181' labels=frozenset({'PLAYER'}) properties={'number': 23, 'name': 'Anthony Davis', 'weight': 115, 'age': 28, 'height': 2.08}> coach=<Node element_id='4:382d468f-3b53-4274-b65c-961905164e73:196' labels=frozenset({'COACH'}) properties={'name': 'Doc Rivers'}>>\n",
      "<Record player=<Node element_id='4:382d468f-3b53-4274-b65c-961905164e73:181' labels=frozenset({'PLAYER'}) properties={'number': 23, 'name': 'Anthony Davis', 'weight': 115, 'age': 28, 'height': 2.08}> coach=<Node element_id='4:382d468f-3b53-4274-b65c-961905164e73:197' labels=frozenset({'COACH'}) properties={'name': 'Stan Van Gundy'}>>\n",
      "<Record player=<Node element_id='4:382d468f-3b53-4274-b65c-961905164e73:182' labels=frozenset({'PLAYER'}) properties={'number': 12, 'name': 'Ja Morant', 'weight': 79, 'age': 22, 'height': 1.91}> coach=<Node element_id='4:382d468f-3b53-4274-b65c-961905164e73:191' labels=frozenset({'COACH'}) properties={'name': 'Frank Vogel'}>>\n",
      "<Record player=<Node element_id='4:382d468f-3b53-4274-b65c-961905164e73:182' labels=frozenset({'PLAYER'}) properties={'number': 12, 'name': 'Ja Morant', 'weight': 79, 'age': 22, 'height': 1.91}> coach=<Node element_id='4:382d468f-3b53-4274-b65c-961905164e73:192' labels=frozenset({'COACH'}) properties={'name': 'Taylor Jenkins'}>>\n",
      "<Record player=<Node element_id='4:382d468f-3b53-4274-b65c-961905164e73:182' labels=frozenset({'PLAYER'}) properties={'number': 12, 'name': 'Ja Morant', 'weight': 79, 'age': 22, 'height': 1.91}> coach=<Node element_id='4:382d468f-3b53-4274-b65c-961905164e73:193' labels=frozenset({'COACH'}) properties={'name': 'Jason Kidd'}>>\n",
      "<Record player=<Node element_id='4:382d468f-3b53-4274-b65c-961905164e73:182' labels=frozenset({'PLAYER'}) properties={'number': 12, 'name': 'Ja Morant', 'weight': 79, 'age': 22, 'height': 1.91}> coach=<Node element_id='4:382d468f-3b53-4274-b65c-961905164e73:194' labels=frozenset({'COACH'}) properties={'name': 'Steve Nash'}>>\n",
      "<Record player=<Node element_id='4:382d468f-3b53-4274-b65c-961905164e73:182' labels=frozenset({'PLAYER'}) properties={'number': 12, 'name': 'Ja Morant', 'weight': 79, 'age': 22, 'height': 1.91}> coach=<Node element_id='4:382d468f-3b53-4274-b65c-961905164e73:195' labels=frozenset({'COACH'}) properties={'name': 'Mike Budenholzer'}>>\n",
      "<Record player=<Node element_id='4:382d468f-3b53-4274-b65c-961905164e73:182' labels=frozenset({'PLAYER'}) properties={'number': 12, 'name': 'Ja Morant', 'weight': 79, 'age': 22, 'height': 1.91}> coach=<Node element_id='4:382d468f-3b53-4274-b65c-961905164e73:196' labels=frozenset({'COACH'}) properties={'name': 'Doc Rivers'}>>\n",
      "<Record player=<Node element_id='4:382d468f-3b53-4274-b65c-961905164e73:182' labels=frozenset({'PLAYER'}) properties={'number': 12, 'name': 'Ja Morant', 'weight': 79, 'age': 22, 'height': 1.91}> coach=<Node element_id='4:382d468f-3b53-4274-b65c-961905164e73:197' labels=frozenset({'COACH'}) properties={'name': 'Stan Van Gundy'}>>\n",
      "<Record player=<Node element_id='4:382d468f-3b53-4274-b65c-961905164e73:183' labels=frozenset({'PLAYER'}) properties={'number': 77, 'name': 'Luka Doncic', 'weight': 104, 'age': 22, 'height': 2.01}> coach=<Node element_id='4:382d468f-3b53-4274-b65c-961905164e73:191' labels=frozenset({'COACH'}) properties={'name': 'Frank Vogel'}>>\n",
      "<Record player=<Node element_id='4:382d468f-3b53-4274-b65c-961905164e73:183' labels=frozenset({'PLAYER'}) properties={'number': 77, 'name': 'Luka Doncic', 'weight': 104, 'age': 22, 'height': 2.01}> coach=<Node element_id='4:382d468f-3b53-4274-b65c-961905164e73:192' labels=frozenset({'COACH'}) properties={'name': 'Taylor Jenkins'}>>\n",
      "<Record player=<Node element_id='4:382d468f-3b53-4274-b65c-961905164e73:183' labels=frozenset({'PLAYER'}) properties={'number': 77, 'name': 'Luka Doncic', 'weight': 104, 'age': 22, 'height': 2.01}> coach=<Node element_id='4:382d468f-3b53-4274-b65c-961905164e73:193' labels=frozenset({'COACH'}) properties={'name': 'Jason Kidd'}>>\n",
      "<Record player=<Node element_id='4:382d468f-3b53-4274-b65c-961905164e73:183' labels=frozenset({'PLAYER'}) properties={'number': 77, 'name': 'Luka Doncic', 'weight': 104, 'age': 22, 'height': 2.01}> coach=<Node element_id='4:382d468f-3b53-4274-b65c-961905164e73:194' labels=frozenset({'COACH'}) properties={'name': 'Steve Nash'}>>\n",
      "<Record player=<Node element_id='4:382d468f-3b53-4274-b65c-961905164e73:183' labels=frozenset({'PLAYER'}) properties={'number': 77, 'name': 'Luka Doncic', 'weight': 104, 'age': 22, 'height': 2.01}> coach=<Node element_id='4:382d468f-3b53-4274-b65c-961905164e73:195' labels=frozenset({'COACH'}) properties={'name': 'Mike Budenholzer'}>>\n",
      "<Record player=<Node element_id='4:382d468f-3b53-4274-b65c-961905164e73:183' labels=frozenset({'PLAYER'}) properties={'number': 77, 'name': 'Luka Doncic', 'weight': 104, 'age': 22, 'height': 2.01}> coach=<Node element_id='4:382d468f-3b53-4274-b65c-961905164e73:196' labels=frozenset({'COACH'}) properties={'name': 'Doc Rivers'}>>\n",
      "<Record player=<Node element_id='4:382d468f-3b53-4274-b65c-961905164e73:183' labels=frozenset({'PLAYER'}) properties={'number': 77, 'name': 'Luka Doncic', 'weight': 104, 'age': 22, 'height': 2.01}> coach=<Node element_id='4:382d468f-3b53-4274-b65c-961905164e73:197' labels=frozenset({'COACH'}) properties={'name': 'Stan Van Gundy'}>>\n",
      "<Record player=<Node element_id='4:382d468f-3b53-4274-b65c-961905164e73:184' labels=frozenset({'PLAYER'}) properties={'number': 6, 'name': 'Kristaps Porzingis', 'weight': 109, 'age': 26, 'height': 2.21}> coach=<Node element_id='4:382d468f-3b53-4274-b65c-961905164e73:191' labels=frozenset({'COACH'}) properties={'name': 'Frank Vogel'}>>\n",
      "<Record player=<Node element_id='4:382d468f-3b53-4274-b65c-961905164e73:184' labels=frozenset({'PLAYER'}) properties={'number': 6, 'name': 'Kristaps Porzingis', 'weight': 109, 'age': 26, 'height': 2.21}> coach=<Node element_id='4:382d468f-3b53-4274-b65c-961905164e73:192' labels=frozenset({'COACH'}) properties={'name': 'Taylor Jenkins'}>>\n",
      "<Record player=<Node element_id='4:382d468f-3b53-4274-b65c-961905164e73:184' labels=frozenset({'PLAYER'}) properties={'number': 6, 'name': 'Kristaps Porzingis', 'weight': 109, 'age': 26, 'height': 2.21}> coach=<Node element_id='4:382d468f-3b53-4274-b65c-961905164e73:193' labels=frozenset({'COACH'}) properties={'name': 'Jason Kidd'}>>\n",
      "<Record player=<Node element_id='4:382d468f-3b53-4274-b65c-961905164e73:184' labels=frozenset({'PLAYER'}) properties={'number': 6, 'name': 'Kristaps Porzingis', 'weight': 109, 'age': 26, 'height': 2.21}> coach=<Node element_id='4:382d468f-3b53-4274-b65c-961905164e73:194' labels=frozenset({'COACH'}) properties={'name': 'Steve Nash'}>>\n",
      "<Record player=<Node element_id='4:382d468f-3b53-4274-b65c-961905164e73:184' labels=frozenset({'PLAYER'}) properties={'number': 6, 'name': 'Kristaps Porzingis', 'weight': 109, 'age': 26, 'height': 2.21}> coach=<Node element_id='4:382d468f-3b53-4274-b65c-961905164e73:195' labels=frozenset({'COACH'}) properties={'name': 'Mike Budenholzer'}>>\n",
      "<Record player=<Node element_id='4:382d468f-3b53-4274-b65c-961905164e73:184' labels=frozenset({'PLAYER'}) properties={'number': 6, 'name': 'Kristaps Porzingis', 'weight': 109, 'age': 26, 'height': 2.21}> coach=<Node element_id='4:382d468f-3b53-4274-b65c-961905164e73:196' labels=frozenset({'COACH'}) properties={'name': 'Doc Rivers'}>>\n",
      "<Record player=<Node element_id='4:382d468f-3b53-4274-b65c-961905164e73:184' labels=frozenset({'PLAYER'}) properties={'number': 6, 'name': 'Kristaps Porzingis', 'weight': 109, 'age': 26, 'height': 2.21}> coach=<Node element_id='4:382d468f-3b53-4274-b65c-961905164e73:197' labels=frozenset({'COACH'}) properties={'name': 'Stan Van Gundy'}>>\n",
      "<Record player=<Node element_id='4:382d468f-3b53-4274-b65c-961905164e73:185' labels=frozenset({'PLAYER'}) properties={'number': 7, 'name': 'Kevin Durant', 'weight': 109, 'age': 33, 'height': 2.08}> coach=<Node element_id='4:382d468f-3b53-4274-b65c-961905164e73:191' labels=frozenset({'COACH'}) properties={'name': 'Frank Vogel'}>>\n",
      "<Record player=<Node element_id='4:382d468f-3b53-4274-b65c-961905164e73:185' labels=frozenset({'PLAYER'}) properties={'number': 7, 'name': 'Kevin Durant', 'weight': 109, 'age': 33, 'height': 2.08}> coach=<Node element_id='4:382d468f-3b53-4274-b65c-961905164e73:192' labels=frozenset({'COACH'}) properties={'name': 'Taylor Jenkins'}>>\n",
      "<Record player=<Node element_id='4:382d468f-3b53-4274-b65c-961905164e73:185' labels=frozenset({'PLAYER'}) properties={'number': 7, 'name': 'Kevin Durant', 'weight': 109, 'age': 33, 'height': 2.08}> coach=<Node element_id='4:382d468f-3b53-4274-b65c-961905164e73:193' labels=frozenset({'COACH'}) properties={'name': 'Jason Kidd'}>>\n",
      "<Record player=<Node element_id='4:382d468f-3b53-4274-b65c-961905164e73:185' labels=frozenset({'PLAYER'}) properties={'number': 7, 'name': 'Kevin Durant', 'weight': 109, 'age': 33, 'height': 2.08}> coach=<Node element_id='4:382d468f-3b53-4274-b65c-961905164e73:194' labels=frozenset({'COACH'}) properties={'name': 'Steve Nash'}>>\n",
      "<Record player=<Node element_id='4:382d468f-3b53-4274-b65c-961905164e73:185' labels=frozenset({'PLAYER'}) properties={'number': 7, 'name': 'Kevin Durant', 'weight': 109, 'age': 33, 'height': 2.08}> coach=<Node element_id='4:382d468f-3b53-4274-b65c-961905164e73:195' labels=frozenset({'COACH'}) properties={'name': 'Mike Budenholzer'}>>\n",
      "<Record player=<Node element_id='4:382d468f-3b53-4274-b65c-961905164e73:185' labels=frozenset({'PLAYER'}) properties={'number': 7, 'name': 'Kevin Durant', 'weight': 109, 'age': 33, 'height': 2.08}> coach=<Node element_id='4:382d468f-3b53-4274-b65c-961905164e73:196' labels=frozenset({'COACH'}) properties={'name': 'Doc Rivers'}>>\n",
      "<Record player=<Node element_id='4:382d468f-3b53-4274-b65c-961905164e73:185' labels=frozenset({'PLAYER'}) properties={'number': 7, 'name': 'Kevin Durant', 'weight': 109, 'age': 33, 'height': 2.08}> coach=<Node element_id='4:382d468f-3b53-4274-b65c-961905164e73:197' labels=frozenset({'COACH'}) properties={'name': 'Stan Van Gundy'}>>\n",
      "<Record player=<Node element_id='4:382d468f-3b53-4274-b65c-961905164e73:186' labels=frozenset({'PLAYER'}) properties={'number': 13, 'name': 'James Harden', 'weight': 100, 'age': 32, 'height': 1.96}> coach=<Node element_id='4:382d468f-3b53-4274-b65c-961905164e73:191' labels=frozenset({'COACH'}) properties={'name': 'Frank Vogel'}>>\n",
      "<Record player=<Node element_id='4:382d468f-3b53-4274-b65c-961905164e73:186' labels=frozenset({'PLAYER'}) properties={'number': 13, 'name': 'James Harden', 'weight': 100, 'age': 32, 'height': 1.96}> coach=<Node element_id='4:382d468f-3b53-4274-b65c-961905164e73:192' labels=frozenset({'COACH'}) properties={'name': 'Taylor Jenkins'}>>\n",
      "<Record player=<Node element_id='4:382d468f-3b53-4274-b65c-961905164e73:186' labels=frozenset({'PLAYER'}) properties={'number': 13, 'name': 'James Harden', 'weight': 100, 'age': 32, 'height': 1.96}> coach=<Node element_id='4:382d468f-3b53-4274-b65c-961905164e73:193' labels=frozenset({'COACH'}) properties={'name': 'Jason Kidd'}>>\n",
      "<Record player=<Node element_id='4:382d468f-3b53-4274-b65c-961905164e73:186' labels=frozenset({'PLAYER'}) properties={'number': 13, 'name': 'James Harden', 'weight': 100, 'age': 32, 'height': 1.96}> coach=<Node element_id='4:382d468f-3b53-4274-b65c-961905164e73:194' labels=frozenset({'COACH'}) properties={'name': 'Steve Nash'}>>\n",
      "<Record player=<Node element_id='4:382d468f-3b53-4274-b65c-961905164e73:186' labels=frozenset({'PLAYER'}) properties={'number': 13, 'name': 'James Harden', 'weight': 100, 'age': 32, 'height': 1.96}> coach=<Node element_id='4:382d468f-3b53-4274-b65c-961905164e73:195' labels=frozenset({'COACH'}) properties={'name': 'Mike Budenholzer'}>>\n",
      "<Record player=<Node element_id='4:382d468f-3b53-4274-b65c-961905164e73:186' labels=frozenset({'PLAYER'}) properties={'number': 13, 'name': 'James Harden', 'weight': 100, 'age': 32, 'height': 1.96}> coach=<Node element_id='4:382d468f-3b53-4274-b65c-961905164e73:196' labels=frozenset({'COACH'}) properties={'name': 'Doc Rivers'}>>\n",
      "<Record player=<Node element_id='4:382d468f-3b53-4274-b65c-961905164e73:186' labels=frozenset({'PLAYER'}) properties={'number': 13, 'name': 'James Harden', 'weight': 100, 'age': 32, 'height': 1.96}> coach=<Node element_id='4:382d468f-3b53-4274-b65c-961905164e73:197' labels=frozenset({'COACH'}) properties={'name': 'Stan Van Gundy'}>>\n",
      "<Record player=<Node element_id='4:382d468f-3b53-4274-b65c-961905164e73:187' labels=frozenset({'PLAYER'}) properties={'number': 34, 'name': 'Giannis Antetokounmpo', 'weight': 110, 'age': 26, 'height': 2.11}> coach=<Node element_id='4:382d468f-3b53-4274-b65c-961905164e73:191' labels=frozenset({'COACH'}) properties={'name': 'Frank Vogel'}>>\n",
      "<Record player=<Node element_id='4:382d468f-3b53-4274-b65c-961905164e73:187' labels=frozenset({'PLAYER'}) properties={'number': 34, 'name': 'Giannis Antetokounmpo', 'weight': 110, 'age': 26, 'height': 2.11}> coach=<Node element_id='4:382d468f-3b53-4274-b65c-961905164e73:192' labels=frozenset({'COACH'}) properties={'name': 'Taylor Jenkins'}>>\n",
      "<Record player=<Node element_id='4:382d468f-3b53-4274-b65c-961905164e73:187' labels=frozenset({'PLAYER'}) properties={'number': 34, 'name': 'Giannis Antetokounmpo', 'weight': 110, 'age': 26, 'height': 2.11}> coach=<Node element_id='4:382d468f-3b53-4274-b65c-961905164e73:193' labels=frozenset({'COACH'}) properties={'name': 'Jason Kidd'}>>\n",
      "<Record player=<Node element_id='4:382d468f-3b53-4274-b65c-961905164e73:187' labels=frozenset({'PLAYER'}) properties={'number': 34, 'name': 'Giannis Antetokounmpo', 'weight': 110, 'age': 26, 'height': 2.11}> coach=<Node element_id='4:382d468f-3b53-4274-b65c-961905164e73:194' labels=frozenset({'COACH'}) properties={'name': 'Steve Nash'}>>\n",
      "<Record player=<Node element_id='4:382d468f-3b53-4274-b65c-961905164e73:187' labels=frozenset({'PLAYER'}) properties={'number': 34, 'name': 'Giannis Antetokounmpo', 'weight': 110, 'age': 26, 'height': 2.11}> coach=<Node element_id='4:382d468f-3b53-4274-b65c-961905164e73:195' labels=frozenset({'COACH'}) properties={'name': 'Mike Budenholzer'}>>\n",
      "<Record player=<Node element_id='4:382d468f-3b53-4274-b65c-961905164e73:187' labels=frozenset({'PLAYER'}) properties={'number': 34, 'name': 'Giannis Antetokounmpo', 'weight': 110, 'age': 26, 'height': 2.11}> coach=<Node element_id='4:382d468f-3b53-4274-b65c-961905164e73:196' labels=frozenset({'COACH'}) properties={'name': 'Doc Rivers'}>>\n",
      "<Record player=<Node element_id='4:382d468f-3b53-4274-b65c-961905164e73:187' labels=frozenset({'PLAYER'}) properties={'number': 34, 'name': 'Giannis Antetokounmpo', 'weight': 110, 'age': 26, 'height': 2.11}> coach=<Node element_id='4:382d468f-3b53-4274-b65c-961905164e73:197' labels=frozenset({'COACH'}) properties={'name': 'Stan Van Gundy'}>>\n",
      "<Record player=<Node element_id='4:382d468f-3b53-4274-b65c-961905164e73:188' labels=frozenset({'PLAYER'}) properties={'number': 22, 'name': 'Khris Middleton', 'weight': 100, 'age': 30, 'height': 2.01}> coach=<Node element_id='4:382d468f-3b53-4274-b65c-961905164e73:191' labels=frozenset({'COACH'}) properties={'name': 'Frank Vogel'}>>\n",
      "<Record player=<Node element_id='4:382d468f-3b53-4274-b65c-961905164e73:188' labels=frozenset({'PLAYER'}) properties={'number': 22, 'name': 'Khris Middleton', 'weight': 100, 'age': 30, 'height': 2.01}> coach=<Node element_id='4:382d468f-3b53-4274-b65c-961905164e73:192' labels=frozenset({'COACH'}) properties={'name': 'Taylor Jenkins'}>>\n",
      "<Record player=<Node element_id='4:382d468f-3b53-4274-b65c-961905164e73:188' labels=frozenset({'PLAYER'}) properties={'number': 22, 'name': 'Khris Middleton', 'weight': 100, 'age': 30, 'height': 2.01}> coach=<Node element_id='4:382d468f-3b53-4274-b65c-961905164e73:193' labels=frozenset({'COACH'}) properties={'name': 'Jason Kidd'}>>\n",
      "<Record player=<Node element_id='4:382d468f-3b53-4274-b65c-961905164e73:188' labels=frozenset({'PLAYER'}) properties={'number': 22, 'name': 'Khris Middleton', 'weight': 100, 'age': 30, 'height': 2.01}> coach=<Node element_id='4:382d468f-3b53-4274-b65c-961905164e73:194' labels=frozenset({'COACH'}) properties={'name': 'Steve Nash'}>>\n",
      "<Record player=<Node element_id='4:382d468f-3b53-4274-b65c-961905164e73:188' labels=frozenset({'PLAYER'}) properties={'number': 22, 'name': 'Khris Middleton', 'weight': 100, 'age': 30, 'height': 2.01}> coach=<Node element_id='4:382d468f-3b53-4274-b65c-961905164e73:195' labels=frozenset({'COACH'}) properties={'name': 'Mike Budenholzer'}>>\n",
      "<Record player=<Node element_id='4:382d468f-3b53-4274-b65c-961905164e73:188' labels=frozenset({'PLAYER'}) properties={'number': 22, 'name': 'Khris Middleton', 'weight': 100, 'age': 30, 'height': 2.01}> coach=<Node element_id='4:382d468f-3b53-4274-b65c-961905164e73:196' labels=frozenset({'COACH'}) properties={'name': 'Doc Rivers'}>>\n",
      "<Record player=<Node element_id='4:382d468f-3b53-4274-b65c-961905164e73:188' labels=frozenset({'PLAYER'}) properties={'number': 22, 'name': 'Khris Middleton', 'weight': 100, 'age': 30, 'height': 2.01}> coach=<Node element_id='4:382d468f-3b53-4274-b65c-961905164e73:197' labels=frozenset({'COACH'}) properties={'name': 'Stan Van Gundy'}>>\n",
      "<Record player=<Node element_id='4:382d468f-3b53-4274-b65c-961905164e73:189' labels=frozenset({'PLAYER'}) properties={'number': 21, 'name': 'Joel Embiid', 'weight': 127, 'age': 27, 'height': 2.13}> coach=<Node element_id='4:382d468f-3b53-4274-b65c-961905164e73:191' labels=frozenset({'COACH'}) properties={'name': 'Frank Vogel'}>>\n",
      "<Record player=<Node element_id='4:382d468f-3b53-4274-b65c-961905164e73:189' labels=frozenset({'PLAYER'}) properties={'number': 21, 'name': 'Joel Embiid', 'weight': 127, 'age': 27, 'height': 2.13}> coach=<Node element_id='4:382d468f-3b53-4274-b65c-961905164e73:192' labels=frozenset({'COACH'}) properties={'name': 'Taylor Jenkins'}>>\n",
      "<Record player=<Node element_id='4:382d468f-3b53-4274-b65c-961905164e73:189' labels=frozenset({'PLAYER'}) properties={'number': 21, 'name': 'Joel Embiid', 'weight': 127, 'age': 27, 'height': 2.13}> coach=<Node element_id='4:382d468f-3b53-4274-b65c-961905164e73:193' labels=frozenset({'COACH'}) properties={'name': 'Jason Kidd'}>>\n",
      "<Record player=<Node element_id='4:382d468f-3b53-4274-b65c-961905164e73:189' labels=frozenset({'PLAYER'}) properties={'number': 21, 'name': 'Joel Embiid', 'weight': 127, 'age': 27, 'height': 2.13}> coach=<Node element_id='4:382d468f-3b53-4274-b65c-961905164e73:194' labels=frozenset({'COACH'}) properties={'name': 'Steve Nash'}>>\n",
      "<Record player=<Node element_id='4:382d468f-3b53-4274-b65c-961905164e73:189' labels=frozenset({'PLAYER'}) properties={'number': 21, 'name': 'Joel Embiid', 'weight': 127, 'age': 27, 'height': 2.13}> coach=<Node element_id='4:382d468f-3b53-4274-b65c-961905164e73:195' labels=frozenset({'COACH'}) properties={'name': 'Mike Budenholzer'}>>\n",
      "<Record player=<Node element_id='4:382d468f-3b53-4274-b65c-961905164e73:189' labels=frozenset({'PLAYER'}) properties={'number': 21, 'name': 'Joel Embiid', 'weight': 127, 'age': 27, 'height': 2.13}> coach=<Node element_id='4:382d468f-3b53-4274-b65c-961905164e73:196' labels=frozenset({'COACH'}) properties={'name': 'Doc Rivers'}>>\n",
      "<Record player=<Node element_id='4:382d468f-3b53-4274-b65c-961905164e73:189' labels=frozenset({'PLAYER'}) properties={'number': 21, 'name': 'Joel Embiid', 'weight': 127, 'age': 27, 'height': 2.13}> coach=<Node element_id='4:382d468f-3b53-4274-b65c-961905164e73:197' labels=frozenset({'COACH'}) properties={'name': 'Stan Van Gundy'}>>\n",
      "<Record player=<Node element_id='4:382d468f-3b53-4274-b65c-961905164e73:190' labels=frozenset({'PLAYER'}) properties={'number': 22, 'name': 'Tobias Harris', 'weight': 100, 'age': 29, 'height': 2.03}> coach=<Node element_id='4:382d468f-3b53-4274-b65c-961905164e73:191' labels=frozenset({'COACH'}) properties={'name': 'Frank Vogel'}>>\n",
      "<Record player=<Node element_id='4:382d468f-3b53-4274-b65c-961905164e73:190' labels=frozenset({'PLAYER'}) properties={'number': 22, 'name': 'Tobias Harris', 'weight': 100, 'age': 29, 'height': 2.03}> coach=<Node element_id='4:382d468f-3b53-4274-b65c-961905164e73:192' labels=frozenset({'COACH'}) properties={'name': 'Taylor Jenkins'}>>\n",
      "<Record player=<Node element_id='4:382d468f-3b53-4274-b65c-961905164e73:190' labels=frozenset({'PLAYER'}) properties={'number': 22, 'name': 'Tobias Harris', 'weight': 100, 'age': 29, 'height': 2.03}> coach=<Node element_id='4:382d468f-3b53-4274-b65c-961905164e73:193' labels=frozenset({'COACH'}) properties={'name': 'Jason Kidd'}>>\n",
      "<Record player=<Node element_id='4:382d468f-3b53-4274-b65c-961905164e73:190' labels=frozenset({'PLAYER'}) properties={'number': 22, 'name': 'Tobias Harris', 'weight': 100, 'age': 29, 'height': 2.03}> coach=<Node element_id='4:382d468f-3b53-4274-b65c-961905164e73:194' labels=frozenset({'COACH'}) properties={'name': 'Steve Nash'}>>\n",
      "<Record player=<Node element_id='4:382d468f-3b53-4274-b65c-961905164e73:190' labels=frozenset({'PLAYER'}) properties={'number': 22, 'name': 'Tobias Harris', 'weight': 100, 'age': 29, 'height': 2.03}> coach=<Node element_id='4:382d468f-3b53-4274-b65c-961905164e73:195' labels=frozenset({'COACH'}) properties={'name': 'Mike Budenholzer'}>>\n",
      "<Record player=<Node element_id='4:382d468f-3b53-4274-b65c-961905164e73:190' labels=frozenset({'PLAYER'}) properties={'number': 22, 'name': 'Tobias Harris', 'weight': 100, 'age': 29, 'height': 2.03}> coach=<Node element_id='4:382d468f-3b53-4274-b65c-961905164e73:196' labels=frozenset({'COACH'}) properties={'name': 'Doc Rivers'}>>\n",
      "<Record player=<Node element_id='4:382d468f-3b53-4274-b65c-961905164e73:190' labels=frozenset({'PLAYER'}) properties={'number': 22, 'name': 'Tobias Harris', 'weight': 100, 'age': 29, 'height': 2.03}> coach=<Node element_id='4:382d468f-3b53-4274-b65c-961905164e73:197' labels=frozenset({'COACH'}) properties={'name': 'Stan Van Gundy'}>>\n"
     ]
    }
   ],
   "source": [
    "q1 = 'match (player : PLAYER) , (coach : COACH) return player,coach'\n",
    "nodes = session.run(q1)\n",
    "for node in nodes:\n",
    "    print (node)"
   ]
  },
  {
   "attachments": {},
   "cell_type": "markdown",
   "metadata": {},
   "source": [
    "Querying for specific relationship "
   ]
  },
  {
   "cell_type": "code",
   "execution_count": 16,
   "metadata": {},
   "outputs": [
    {
     "name": "stdout",
     "output_type": "stream",
     "text": [
      "<Record player=<Node element_id='4:382d468f-3b53-4274-b65c-961905164e73:181' labels=frozenset({'PLAYER'}) properties={'number': 23, 'name': 'Anthony Davis', 'weight': 115, 'age': 28, 'height': 2.08}>>\n",
      "<Record player=<Node element_id='4:382d468f-3b53-4274-b65c-961905164e73:180' labels=frozenset({'PLAYER'}) properties={'number': 6, 'name': 'LeBron James', 'weight': 113, 'age': 36, 'height': 2.06}>>\n",
      "<Record player=<Node element_id='4:382d468f-3b53-4274-b65c-961905164e73:179' labels=frozenset({'PLAYER'}) properties={'number': 0, 'name': 'Russell Westbrook', 'weight': 91, 'age': 33, 'height': 1.91}>>\n"
     ]
    }
   ],
   "source": [
    "q1 = 'match (player : PLAYER) -[:PLAYS_FOR]-> (team : TEAM) where team.name = \"LA Lakers\" return player'\n",
    "nodes = session.run(q1)\n",
    "for node in nodes:\n",
    "    print (node)"
   ]
  },
  {
   "attachments": {},
   "cell_type": "markdown",
   "metadata": {},
   "source": [
    "Querying on the basis of realtionship properties "
   ]
  },
  {
   "cell_type": "code",
   "execution_count": 17,
   "metadata": {},
   "outputs": [
    {
     "name": "stdout",
     "output_type": "stream",
     "text": [
      "<Record player=<Node element_id='4:382d468f-3b53-4274-b65c-961905164e73:181' labels=frozenset({'PLAYER'}) properties={'number': 23, 'name': 'Anthony Davis', 'weight': 115, 'age': 28, 'height': 2.08}>>\n",
      "<Record player=<Node element_id='4:382d468f-3b53-4274-b65c-961905164e73:179' labels=frozenset({'PLAYER'}) properties={'number': 0, 'name': 'Russell Westbrook', 'weight': 91, 'age': 33, 'height': 1.91}>>\n",
      "<Record player=<Node element_id='4:382d468f-3b53-4274-b65c-961905164e73:183' labels=frozenset({'PLAYER'}) properties={'number': 77, 'name': 'Luka Doncic', 'weight': 104, 'age': 22, 'height': 2.01}>>\n",
      "<Record player=<Node element_id='4:382d468f-3b53-4274-b65c-961905164e73:185' labels=frozenset({'PLAYER'}) properties={'number': 7, 'name': 'Kevin Durant', 'weight': 109, 'age': 33, 'height': 2.08}>>\n",
      "<Record player=<Node element_id='4:382d468f-3b53-4274-b65c-961905164e73:188' labels=frozenset({'PLAYER'}) properties={'number': 22, 'name': 'Khris Middleton', 'weight': 100, 'age': 30, 'height': 2.01}>>\n",
      "<Record player=<Node element_id='4:382d468f-3b53-4274-b65c-961905164e73:187' labels=frozenset({'PLAYER'}) properties={'number': 34, 'name': 'Giannis Antetokounmpo', 'weight': 110, 'age': 26, 'height': 2.11}>>\n"
     ]
    }
   ],
   "source": [
    "q1 = 'match (player : PLAYER) -[contract : PLAYS_FOR]-> (team : TEAM) where contract.salary >= 35000000 return player'\n",
    "nodes = session.run(q1)\n",
    "for node in nodes:\n",
    "    print (node)"
   ]
  },
  {
   "attachments": {},
   "cell_type": "markdown",
   "metadata": {},
   "source": [
    "aggregation "
   ]
  },
  {
   "cell_type": "code",
   "execution_count": 19,
   "metadata": {},
   "outputs": [
    {
     "name": "stdout",
     "output_type": "stream",
     "text": [
      "<Record teammate=<Node element_id='4:382d468f-3b53-4274-b65c-961905164e73:179' labels=frozenset({'PLAYER'}) properties={'number': 0, 'name': 'Russell Westbrook', 'weight': 91, 'age': 33, 'height': 1.91}>>\n"
     ]
    }
   ],
   "source": [
    "# return team mate of lebron james whose salary is greateer than 40M\n",
    "q1 = 'match (lebron : PLAYER {name  : \"LeBron James\"}) -[:TEAMMATES]-> (teammate : PLAYER) match (teammate) -[contract : PLAYS_FOR]-> (team : TEAM) where contract.salary >=40000000 return teammate'\n",
    "nodes = session.run(q1)\n",
    "for node in nodes:\n",
    "    print (node)"
   ]
  },
  {
   "cell_type": "code",
   "execution_count": 23,
   "metadata": {},
   "outputs": [
    {
     "name": "stdout",
     "output_type": "stream",
     "text": [
      "<Record name='Joel Embiid' games=3>\n",
      "<Record name='James Harden' games=3>\n",
      "<Record name='Tobias Harris' games=3>\n",
      "<Record name='Ja Morant' games=3>\n",
      "<Record name='Kevin Durant' games=3>\n",
      "<Record name='LeBron James' games=4>\n",
      "<Record name='Anthony Davis' games=4>\n",
      "<Record name='Russell Westbrook' games=4>\n",
      "<Record name='Khris Middleton' games=2>\n",
      "<Record name='Giannis Antetokounmpo' games=2>\n",
      "<Record name='Luka Doncic' games=3>\n",
      "<Record name='Kristaps Porzingis' games=3>\n"
     ]
    }
   ],
   "source": [
    "q1 = 'match (player : PLAYER) -[gamesplayed:PLAYED_AGAINST]-> (team : TEAM) return player.name as name,COUNT(gamesplayed) as games'\n",
    "nodes = session.run(q1)\n",
    "for node in nodes:\n",
    "    print (node)"
   ]
  },
  {
   "attachments": {},
   "cell_type": "markdown",
   "metadata": {},
   "source": [
    "Delete Node"
   ]
  },
  {
   "cell_type": "code",
   "execution_count": 25,
   "metadata": {},
   "outputs": [],
   "source": [
    "q1 = 'match (lebron : PLAYER {name  : \"LeBron James\"}) detach delete lebron'\n",
    "nodes = session.run(q1)\n",
    "for node in nodes:\n",
    "    print (node)"
   ]
  },
  {
   "attachments": {},
   "cell_type": "markdown",
   "metadata": {},
   "source": [
    "Delete relationship"
   ]
  },
  {
   "cell_type": "code",
   "execution_count": 26,
   "metadata": {},
   "outputs": [],
   "source": [
    "q1 = 'match (joel : PLAYER {name : \"JOEL\"})-[rel : PLAYS_FOR]-> (team : TEAM) delete rel'\n",
    "nodes = session.run(q1)\n",
    "for node in nodes:\n",
    "    print (node)"
   ]
  }
 ],
 "metadata": {
  "kernelspec": {
   "display_name": "base",
   "language": "python",
   "name": "python3"
  },
  "language_info": {
   "codemirror_mode": {
    "name": "ipython",
    "version": 3
   },
   "file_extension": ".py",
   "mimetype": "text/x-python",
   "name": "python",
   "nbconvert_exporter": "python",
   "pygments_lexer": "ipython3",
   "version": "3.9.13"
  },
  "orig_nbformat": 4,
  "vscode": {
   "interpreter": {
    "hash": "e9c4a1b3ec221813c4310e7166dd947b2e9fd2a755a817cfa319da42270b82dd"
   }
  }
 },
 "nbformat": 4,
 "nbformat_minor": 2
}
