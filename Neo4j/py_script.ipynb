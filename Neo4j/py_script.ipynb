{
 "cells": [
  {
   "attachments": {},
   "cell_type": "markdown",
   "metadata": {},
   "source": [
    "Setting up the authorization "
   ]
  },
  {
   "cell_type": "code",
   "execution_count": 18,
   "metadata": {},
   "outputs": [],
   "source": [
    "from neo4j import GraphDatabase\n",
    "graphdb = GraphDatabase.driver(uri = \"bolt://localhost:7687\", auth = (\"neo4j\",\"chetan08\"))\n",
    "session = graphdb.session() "
   ]
  },
  {
   "attachments": {},
   "cell_type": "markdown",
   "metadata": {},
   "source": [
    "Returning whole data"
   ]
  },
  {
   "cell_type": "code",
   "execution_count": 19,
   "metadata": {},
   "outputs": [
    {
     "name": "stdout",
     "output_type": "stream",
     "text": [
      "<Record n=<Node element_id='4:382d468f-3b53-4274-b65c-961905164e73:0' labels=frozenset({'Movie'}) properties={'tagline': 'Welcome to the Real World', 'title': 'The Matrix', 'released': 1999}>>\n",
      "<Record n=<Node element_id='4:382d468f-3b53-4274-b65c-961905164e73:1' labels=frozenset({'Person'}) properties={'born': 1964, 'name': 'Keanu Reeves'}>>\n",
      "<Record n=<Node element_id='4:382d468f-3b53-4274-b65c-961905164e73:2' labels=frozenset({'Person'}) properties={'born': 1967, 'name': 'Carrie-Anne Moss'}>>\n",
      "<Record n=<Node element_id='4:382d468f-3b53-4274-b65c-961905164e73:3' labels=frozenset({'Person'}) properties={'born': 1961, 'name': 'Laurence Fishburne'}>>\n",
      "<Record n=<Node element_id='4:382d468f-3b53-4274-b65c-961905164e73:4' labels=frozenset({'Person'}) properties={'born': 1960, 'name': 'Hugo Weaving'}>>\n",
      "<Record n=<Node element_id='4:382d468f-3b53-4274-b65c-961905164e73:5' labels=frozenset({'Person'}) properties={'born': 1967, 'name': 'Andy Wachowski'}>>\n",
      "<Record n=<Node element_id='4:382d468f-3b53-4274-b65c-961905164e73:6' labels=frozenset({'Person'}) properties={'born': 1965, 'name': 'Lana Wachowski'}>>\n",
      "<Record n=<Node element_id='4:382d468f-3b53-4274-b65c-961905164e73:7' labels=frozenset({'Person'}) properties={'born': 1952, 'name': 'Joel Silver'}>>\n",
      "<Record n=<Node element_id='4:382d468f-3b53-4274-b65c-961905164e73:8' labels=frozenset({'Person'}) properties={'born': 1978, 'name': 'Emil Eifrem'}>>\n",
      "<Record n=<Node element_id='4:382d468f-3b53-4274-b65c-961905164e73:9' labels=frozenset({'Movie'}) properties={'tagline': 'Free your mind', 'title': 'The Matrix Reloaded', 'released': 2003}>>\n",
      "<Record n=<Node element_id='4:382d468f-3b53-4274-b65c-961905164e73:10' labels=frozenset({'Movie'}) properties={'tagline': 'Everything that has a beginning has an end', 'title': 'The Matrix Revolutions', 'released': 2003}>>\n",
      "<Record n=<Node element_id='4:382d468f-3b53-4274-b65c-961905164e73:11' labels=frozenset({'Movie'}) properties={'tagline': 'Evil has its winning ways', 'title': \"The Devil's Advocate\", 'released': 1997}>>\n",
      "<Record n=<Node element_id='4:382d468f-3b53-4274-b65c-961905164e73:12' labels=frozenset({'Person'}) properties={'born': 1975, 'name': 'Charlize Theron'}>>\n",
      "<Record n=<Node element_id='4:382d468f-3b53-4274-b65c-961905164e73:13' labels=frozenset({'Person'}) properties={'born': 1940, 'name': 'Al Pacino'}>>\n",
      "<Record n=<Node element_id='4:382d468f-3b53-4274-b65c-961905164e73:14' labels=frozenset({'Person'}) properties={'born': 1944, 'name': 'Taylor Hackford'}>>\n",
      "<Record n=<Node element_id='4:382d468f-3b53-4274-b65c-961905164e73:15' labels=frozenset({'Movie'}) properties={'tagline': \"In the heart of the nation's capital, in a courthouse of the U.S. government, one man will stop at nothing to keep his honor, and one will stop at nothing to find the truth.\", 'title': 'A Few Good Men', 'released': 1992}>>\n",
      "<Record n=<Node element_id='4:382d468f-3b53-4274-b65c-961905164e73:16' labels=frozenset({'Person'}) properties={'born': 1962, 'name': 'Tom Cruise'}>>\n",
      "<Record n=<Node element_id='4:382d468f-3b53-4274-b65c-961905164e73:17' labels=frozenset({'Person'}) properties={'born': 1937, 'name': 'Jack Nicholson'}>>\n",
      "<Record n=<Node element_id='4:382d468f-3b53-4274-b65c-961905164e73:18' labels=frozenset({'Person'}) properties={'born': 1962, 'name': 'Demi Moore'}>>\n",
      "<Record n=<Node element_id='4:382d468f-3b53-4274-b65c-961905164e73:19' labels=frozenset({'Person'}) properties={'born': 1958, 'name': 'Kevin Bacon'}>>\n",
      "<Record n=<Node element_id='4:382d468f-3b53-4274-b65c-961905164e73:20' labels=frozenset({'Person'}) properties={'born': 1966, 'name': 'Kiefer Sutherland'}>>\n",
      "<Record n=<Node element_id='4:382d468f-3b53-4274-b65c-961905164e73:21' labels=frozenset({'Person'}) properties={'born': 1971, 'name': 'Noah Wyle'}>>\n",
      "<Record n=<Node element_id='4:382d468f-3b53-4274-b65c-961905164e73:22' labels=frozenset({'Person'}) properties={'born': 1968, 'name': 'Cuba Gooding Jr.'}>>\n",
      "<Record n=<Node element_id='4:382d468f-3b53-4274-b65c-961905164e73:23' labels=frozenset({'Person'}) properties={'born': 1957, 'name': 'Kevin Pollak'}>>\n",
      "<Record n=<Node element_id='4:382d468f-3b53-4274-b65c-961905164e73:24' labels=frozenset({'Person'}) properties={'born': 1943, 'name': 'J.T. Walsh'}>>\n",
      "<Record n=<Node element_id='4:382d468f-3b53-4274-b65c-961905164e73:25' labels=frozenset({'Person'}) properties={'born': 1967, 'name': 'James Marshall'}>>\n",
      "<Record n=<Node element_id='4:382d468f-3b53-4274-b65c-961905164e73:26' labels=frozenset({'Person'}) properties={'born': 1948, 'name': 'Christopher Guest'}>>\n",
      "<Record n=<Node element_id='4:382d468f-3b53-4274-b65c-961905164e73:27' labels=frozenset({'Person'}) properties={'born': 1947, 'name': 'Rob Reiner'}>>\n",
      "<Record n=<Node element_id='4:382d468f-3b53-4274-b65c-961905164e73:28' labels=frozenset({'Person'}) properties={'born': 1961, 'name': 'Aaron Sorkin'}>>\n",
      "<Record n=<Node element_id='4:382d468f-3b53-4274-b65c-961905164e73:29' labels=frozenset({'Movie'}) properties={'tagline': 'I feel the need, the need for speed.', 'title': 'Top Gun', 'released': 1986}>>\n",
      "<Record n=<Node element_id='4:382d468f-3b53-4274-b65c-961905164e73:30' labels=frozenset({'Person'}) properties={'born': 1957, 'name': 'Kelly McGillis'}>>\n",
      "<Record n=<Node element_id='4:382d468f-3b53-4274-b65c-961905164e73:31' labels=frozenset({'Person'}) properties={'born': 1959, 'name': 'Val Kilmer'}>>\n",
      "<Record n=<Node element_id='4:382d468f-3b53-4274-b65c-961905164e73:32' labels=frozenset({'Person'}) properties={'born': 1962, 'name': 'Anthony Edwards'}>>\n",
      "<Record n=<Node element_id='4:382d468f-3b53-4274-b65c-961905164e73:33' labels=frozenset({'Person'}) properties={'born': 1933, 'name': 'Tom Skerritt'}>>\n",
      "<Record n=<Node element_id='4:382d468f-3b53-4274-b65c-961905164e73:34' labels=frozenset({'Person'}) properties={'born': 1961, 'name': 'Meg Ryan'}>>\n",
      "<Record n=<Node element_id='4:382d468f-3b53-4274-b65c-961905164e73:35' labels=frozenset({'Person'}) properties={'born': 1944, 'name': 'Tony Scott'}>>\n",
      "<Record n=<Node element_id='4:382d468f-3b53-4274-b65c-961905164e73:36' labels=frozenset({'Person'}) properties={'born': 1941, 'name': 'Jim Cash'}>>\n",
      "<Record n=<Node element_id='4:382d468f-3b53-4274-b65c-961905164e73:37' labels=frozenset({'Movie'}) properties={'tagline': 'The rest of his life begins now.', 'title': 'Jerry Maguire', 'released': 2000}>>\n",
      "<Record n=<Node element_id='4:382d468f-3b53-4274-b65c-961905164e73:38' labels=frozenset({'Person'}) properties={'born': 1969, 'name': 'Renee Zellweger'}>>\n",
      "<Record n=<Node element_id='4:382d468f-3b53-4274-b65c-961905164e73:39' labels=frozenset({'Person'}) properties={'born': 1962, 'name': 'Kelly Preston'}>>\n",
      "<Record n=<Node element_id='4:382d468f-3b53-4274-b65c-961905164e73:40' labels=frozenset({'Person'}) properties={'born': 1974, 'name': \"Jerry O'Connell\"}>>\n",
      "<Record n=<Node element_id='4:382d468f-3b53-4274-b65c-961905164e73:41' labels=frozenset({'Person'}) properties={'born': 1970, 'name': 'Jay Mohr'}>>\n",
      "<Record n=<Node element_id='4:382d468f-3b53-4274-b65c-961905164e73:42' labels=frozenset({'Person'}) properties={'born': 1961, 'name': 'Bonnie Hunt'}>>\n",
      "<Record n=<Node element_id='4:382d468f-3b53-4274-b65c-961905164e73:43' labels=frozenset({'Person'}) properties={'born': 1971, 'name': 'Regina King'}>>\n",
      "<Record n=<Node element_id='4:382d468f-3b53-4274-b65c-961905164e73:44' labels=frozenset({'Person'}) properties={'born': 1996, 'name': 'Jonathan Lipnicki'}>>\n",
      "<Record n=<Node element_id='4:382d468f-3b53-4274-b65c-961905164e73:45' labels=frozenset({'Person'}) properties={'born': 1957, 'name': 'Cameron Crowe'}>>\n",
      "<Record n=<Node element_id='4:382d468f-3b53-4274-b65c-961905164e73:46' labels=frozenset({'Movie'}) properties={'tagline': \"For some, it's the last real taste of innocence, and the first real taste of life. But for everyone, it's the time that memories are made of.\", 'title': 'Stand By Me', 'released': 1986}>>\n",
      "<Record n=<Node element_id='4:382d468f-3b53-4274-b65c-961905164e73:47' labels=frozenset({'Person'}) properties={'born': 1970, 'name': 'River Phoenix'}>>\n",
      "<Record n=<Node element_id='4:382d468f-3b53-4274-b65c-961905164e73:48' labels=frozenset({'Person'}) properties={'born': 1971, 'name': 'Corey Feldman'}>>\n",
      "<Record n=<Node element_id='4:382d468f-3b53-4274-b65c-961905164e73:49' labels=frozenset({'Person'}) properties={'born': 1972, 'name': 'Wil Wheaton'}>>\n",
      "<Record n=<Node element_id='4:382d468f-3b53-4274-b65c-961905164e73:50' labels=frozenset({'Person'}) properties={'born': 1966, 'name': 'John Cusack'}>>\n",
      "<Record n=<Node element_id='4:382d468f-3b53-4274-b65c-961905164e73:51' labels=frozenset({'Person'}) properties={'born': 1942, 'name': 'Marshall Bell'}>>\n",
      "<Record n=<Node element_id='4:382d468f-3b53-4274-b65c-961905164e73:52' labels=frozenset({'Movie'}) properties={'tagline': 'A comedy from the heart that goes for the throat.', 'title': 'As Good as It Gets', 'released': 1997}>>\n",
      "<Record n=<Node element_id='4:382d468f-3b53-4274-b65c-961905164e73:53' labels=frozenset({'Person'}) properties={'born': 1963, 'name': 'Helen Hunt'}>>\n",
      "<Record n=<Node element_id='4:382d468f-3b53-4274-b65c-961905164e73:54' labels=frozenset({'Person'}) properties={'born': 1963, 'name': 'Greg Kinnear'}>>\n",
      "<Record n=<Node element_id='4:382d468f-3b53-4274-b65c-961905164e73:55' labels=frozenset({'Person'}) properties={'born': 1940, 'name': 'James L. Brooks'}>>\n",
      "<Record n=<Node element_id='4:382d468f-3b53-4274-b65c-961905164e73:56' labels=frozenset({'Movie'}) properties={'tagline': 'After life there is more. The end is just the beginning.', 'title': 'What Dreams May Come', 'released': 1998}>>\n",
      "<Record n=<Node element_id='4:382d468f-3b53-4274-b65c-961905164e73:57' labels=frozenset({'Person'}) properties={'born': 1960, 'name': 'Annabella Sciorra'}>>\n",
      "<Record n=<Node element_id='4:382d468f-3b53-4274-b65c-961905164e73:58' labels=frozenset({'Person'}) properties={'born': 1929, 'name': 'Max von Sydow'}>>\n",
      "<Record n=<Node element_id='4:382d468f-3b53-4274-b65c-961905164e73:59' labels=frozenset({'Person'}) properties={'born': 1942, 'name': 'Werner Herzog'}>>\n",
      "<Record n=<Node element_id='4:382d468f-3b53-4274-b65c-961905164e73:60' labels=frozenset({'Person'}) properties={'born': 1951, 'name': 'Robin Williams'}>>\n",
      "<Record n=<Node element_id='4:382d468f-3b53-4274-b65c-961905164e73:61' labels=frozenset({'Person'}) properties={'born': 1956, 'name': 'Vincent Ward'}>>\n",
      "<Record n=<Node element_id='4:382d468f-3b53-4274-b65c-961905164e73:62' labels=frozenset({'Movie'}) properties={'tagline': 'First loves last. Forever.', 'title': 'Snow Falling on Cedars', 'released': 1999}>>\n",
      "<Record n=<Node element_id='4:382d468f-3b53-4274-b65c-961905164e73:63' labels=frozenset({'Person'}) properties={'born': 1970, 'name': 'Ethan Hawke'}>>\n",
      "<Record n=<Node element_id='4:382d468f-3b53-4274-b65c-961905164e73:64' labels=frozenset({'Person'}) properties={'born': 1971, 'name': 'Rick Yune'}>>\n",
      "<Record n=<Node element_id='4:382d468f-3b53-4274-b65c-961905164e73:65' labels=frozenset({'Person'}) properties={'born': 1940, 'name': 'James Cromwell'}>>\n",
      "<Record n=<Node element_id='4:382d468f-3b53-4274-b65c-961905164e73:66' labels=frozenset({'Person'}) properties={'born': 1953, 'name': 'Scott Hicks'}>>\n",
      "<Record n=<Node element_id='4:382d468f-3b53-4274-b65c-961905164e73:67' labels=frozenset({'Movie'}) properties={'tagline': 'At odds in life... in love on-line.', 'title': \"You've Got Mail\", 'released': 1998}>>\n",
      "<Record n=<Node element_id='4:382d468f-3b53-4274-b65c-961905164e73:68' labels=frozenset({'Person'}) properties={'born': 1968, 'name': 'Parker Posey'}>>\n",
      "<Record n=<Node element_id='4:382d468f-3b53-4274-b65c-961905164e73:69' labels=frozenset({'Person'}) properties={'born': 1973, 'name': 'Dave Chappelle'}>>\n",
      "<Record n=<Node element_id='4:382d468f-3b53-4274-b65c-961905164e73:70' labels=frozenset({'Person'}) properties={'born': 1967, 'name': 'Steve Zahn'}>>\n",
      "<Record n=<Node element_id='4:382d468f-3b53-4274-b65c-961905164e73:71' labels=frozenset({'Person'}) properties={'born': 1956, 'name': 'Tom Hanks'}>>\n",
      "<Record n=<Node element_id='4:382d468f-3b53-4274-b65c-961905164e73:72' labels=frozenset({'Person'}) properties={'born': 1941, 'name': 'Nora Ephron'}>>\n",
      "<Record n=<Node element_id='4:382d468f-3b53-4274-b65c-961905164e73:73' labels=frozenset({'Movie'}) properties={'tagline': 'What if someone you never met, someone you never saw, someone you never knew was the only someone for you?', 'title': 'Sleepless in Seattle', 'released': 1993}>>\n",
      "<Record n=<Node element_id='4:382d468f-3b53-4274-b65c-961905164e73:74' labels=frozenset({'Person'}) properties={'born': 1956, 'name': 'Rita Wilson'}>>\n",
      "<Record n=<Node element_id='4:382d468f-3b53-4274-b65c-961905164e73:75' labels=frozenset({'Person'}) properties={'born': 1953, 'name': 'Bill Pullman'}>>\n",
      "<Record n=<Node element_id='4:382d468f-3b53-4274-b65c-961905164e73:76' labels=frozenset({'Person'}) properties={'born': 1949, 'name': 'Victor Garber'}>>\n",
      "<Record n=<Node element_id='4:382d468f-3b53-4274-b65c-961905164e73:77' labels=frozenset({'Person'}) properties={'born': 1962, 'name': \"Rosie O'Donnell\"}>>\n",
      "<Record n=<Node element_id='4:382d468f-3b53-4274-b65c-961905164e73:78' labels=frozenset({'Movie'}) properties={'tagline': 'A story of love, lava and burning desire.', 'title': 'Joe Versus the Volcano', 'released': 1990}>>\n",
      "<Record n=<Node element_id='4:382d468f-3b53-4274-b65c-961905164e73:79' labels=frozenset({'Person'}) properties={'born': 1950, 'name': 'John Patrick Stanley'}>>\n",
      "<Record n=<Node element_id='4:382d468f-3b53-4274-b65c-961905164e73:80' labels=frozenset({'Person'}) properties={'born': 1956, 'name': 'Nathan Lane'}>>\n",
      "<Record n=<Node element_id='4:382d468f-3b53-4274-b65c-961905164e73:81' labels=frozenset({'Movie'}) properties={'tagline': 'At odds in life... in love on-line.', 'title': 'When Harry Met Sally', 'released': 1998}>>\n",
      "<Record n=<Node element_id='4:382d468f-3b53-4274-b65c-961905164e73:82' labels=frozenset({'Person'}) properties={'born': 1948, 'name': 'Billy Crystal'}>>\n",
      "<Record n=<Node element_id='4:382d468f-3b53-4274-b65c-961905164e73:83' labels=frozenset({'Person'}) properties={'born': 1956, 'name': 'Carrie Fisher'}>>\n",
      "<Record n=<Node element_id='4:382d468f-3b53-4274-b65c-961905164e73:84' labels=frozenset({'Person'}) properties={'born': 1949, 'name': 'Bruno Kirby'}>>\n",
      "<Record n=<Node element_id='4:382d468f-3b53-4274-b65c-961905164e73:85' labels=frozenset({'Movie'}) properties={'tagline': 'In every life there comes a time when that thing you dream becomes that thing you do', 'title': 'That Thing You Do', 'released': 1996}>>\n",
      "<Record n=<Node element_id='4:382d468f-3b53-4274-b65c-961905164e73:86' labels=frozenset({'Person'}) properties={'born': 1977, 'name': 'Liv Tyler'}>>\n",
      "<Record n=<Node element_id='4:382d468f-3b53-4274-b65c-961905164e73:87' labels=frozenset({'Movie'}) properties={'tagline': 'Pain heals, Chicks dig scars... Glory lasts forever', 'title': 'The Replacements', 'released': 2000}>>\n",
      "<Record n=<Node element_id='4:382d468f-3b53-4274-b65c-961905164e73:88' labels=frozenset({'Person'}) properties={'born': 1970, 'name': 'Brooke Langton'}>>\n",
      "<Record n=<Node element_id='4:382d468f-3b53-4274-b65c-961905164e73:89' labels=frozenset({'Person'}) properties={'born': 1930, 'name': 'Gene Hackman'}>>\n",
      "<Record n=<Node element_id='4:382d468f-3b53-4274-b65c-961905164e73:90' labels=frozenset({'Person'}) properties={'born': 1968, 'name': 'Orlando Jones'}>>\n",
      "<Record n=<Node element_id='4:382d468f-3b53-4274-b65c-961905164e73:91' labels=frozenset({'Person'}) properties={'born': 1950, 'name': 'Howard Deutch'}>>\n",
      "<Record n=<Node element_id='4:382d468f-3b53-4274-b65c-961905164e73:92' labels=frozenset({'Movie'}) properties={'tagline': \"Based on the extraordinary true story of one man's fight for freedom\", 'title': 'RescueDawn', 'released': 2006}>>\n",
      "<Record n=<Node element_id='4:382d468f-3b53-4274-b65c-961905164e73:93' labels=frozenset({'Person'}) properties={'born': 1974, 'name': 'Christian Bale'}>>\n",
      "<Record n=<Node element_id='4:382d468f-3b53-4274-b65c-961905164e73:94' labels=frozenset({'Person'}) properties={'born': 1954, 'name': 'Zach Grenier'}>>\n",
      "<Record n=<Node element_id='4:382d468f-3b53-4274-b65c-961905164e73:95' labels=frozenset({'Movie'}) properties={'tagline': 'Come as you are', 'title': 'The Birdcage', 'released': 1996}>>\n",
      "<Record n=<Node element_id='4:382d468f-3b53-4274-b65c-961905164e73:96' labels=frozenset({'Person'}) properties={'born': 1931, 'name': 'Mike Nichols'}>>\n",
      "<Record n=<Node element_id='4:382d468f-3b53-4274-b65c-961905164e73:97' labels=frozenset({'Movie'}) properties={'tagline': \"It's a hell of a thing, killing a man\", 'title': 'Unforgiven', 'released': 1992}>>\n",
      "<Record n=<Node element_id='4:382d468f-3b53-4274-b65c-961905164e73:98' labels=frozenset({'Person'}) properties={'born': 1930, 'name': 'Richard Harris'}>>\n",
      "<Record n=<Node element_id='4:382d468f-3b53-4274-b65c-961905164e73:99' labels=frozenset({'Person'}) properties={'born': 1930, 'name': 'Clint Eastwood'}>>\n",
      "<Record n=<Node element_id='4:382d468f-3b53-4274-b65c-961905164e73:100' labels=frozenset({'Movie'}) properties={'tagline': 'The hottest data on earth. In the coolest head in town', 'title': 'Johnny Mnemonic', 'released': 1995}>>\n",
      "<Record n=<Node element_id='4:382d468f-3b53-4274-b65c-961905164e73:101' labels=frozenset({'Person'}) properties={'born': 1947, 'name': 'Takeshi Kitano'}>>\n",
      "<Record n=<Node element_id='4:382d468f-3b53-4274-b65c-961905164e73:102' labels=frozenset({'Person'}) properties={'born': 1968, 'name': 'Dina Meyer'}>>\n",
      "<Record n=<Node element_id='4:382d468f-3b53-4274-b65c-961905164e73:103' labels=frozenset({'Person'}) properties={'born': 1958, 'name': 'Ice-T'}>>\n",
      "<Record n=<Node element_id='4:382d468f-3b53-4274-b65c-961905164e73:104' labels=frozenset({'Person'}) properties={'born': 1953, 'name': 'Robert Longo'}>>\n",
      "<Record n=<Node element_id='4:382d468f-3b53-4274-b65c-961905164e73:105' labels=frozenset({'Movie'}) properties={'tagline': 'Everything is connected', 'title': 'Cloud Atlas', 'released': 2012}>>\n",
      "<Record n=<Node element_id='4:382d468f-3b53-4274-b65c-961905164e73:106' labels=frozenset({'Person'}) properties={'born': 1966, 'name': 'Halle Berry'}>>\n",
      "<Record n=<Node element_id='4:382d468f-3b53-4274-b65c-961905164e73:107' labels=frozenset({'Person'}) properties={'born': 1949, 'name': 'Jim Broadbent'}>>\n",
      "<Record n=<Node element_id='4:382d468f-3b53-4274-b65c-961905164e73:108' labels=frozenset({'Person'}) properties={'born': 1965, 'name': 'Tom Tykwer'}>>\n",
      "<Record n=<Node element_id='4:382d468f-3b53-4274-b65c-961905164e73:109' labels=frozenset({'Movie'}) properties={'tagline': 'Break The Codes', 'title': 'The Da Vinci Code', 'released': 2006}>>\n",
      "<Record n=<Node element_id='4:382d468f-3b53-4274-b65c-961905164e73:110' labels=frozenset({'Person'}) properties={'born': 1939, 'name': 'Ian McKellen'}>>\n",
      "<Record n=<Node element_id='4:382d468f-3b53-4274-b65c-961905164e73:111' labels=frozenset({'Person'}) properties={'born': 1976, 'name': 'Audrey Tautou'}>>\n",
      "<Record n=<Node element_id='4:382d468f-3b53-4274-b65c-961905164e73:112' labels=frozenset({'Person'}) properties={'born': 1971, 'name': 'Paul Bettany'}>>\n",
      "<Record n=<Node element_id='4:382d468f-3b53-4274-b65c-961905164e73:113' labels=frozenset({'Person'}) properties={'born': 1954, 'name': 'Ron Howard'}>>\n",
      "<Record n=<Node element_id='4:382d468f-3b53-4274-b65c-961905164e73:114' labels=frozenset({'Movie'}) properties={'tagline': 'Freedom! Forever!', 'title': 'V for Vendetta', 'released': 2006}>>\n",
      "<Record n=<Node element_id='4:382d468f-3b53-4274-b65c-961905164e73:115' labels=frozenset({'Person'}) properties={'born': 1981, 'name': 'Natalie Portman'}>>\n",
      "<Record n=<Node element_id='4:382d468f-3b53-4274-b65c-961905164e73:116' labels=frozenset({'Person'}) properties={'born': 1946, 'name': 'Stephen Rea'}>>\n",
      "<Record n=<Node element_id='4:382d468f-3b53-4274-b65c-961905164e73:117' labels=frozenset({'Person'}) properties={'born': 1940, 'name': 'John Hurt'}>>\n",
      "<Record n=<Node element_id='4:382d468f-3b53-4274-b65c-961905164e73:118' labels=frozenset({'Person'}) properties={'born': 1967, 'name': 'Ben Miles'}>>\n",
      "<Record n=<Node element_id='4:382d468f-3b53-4274-b65c-961905164e73:119' labels=frozenset({'Movie'}) properties={'tagline': 'Speed has no limits', 'title': 'Speed Racer', 'released': 2008}>>\n",
      "<Record n=<Node element_id='4:382d468f-3b53-4274-b65c-961905164e73:120' labels=frozenset({'Person'}) properties={'born': 1985, 'name': 'Emile Hirsch'}>>\n",
      "<Record n=<Node element_id='4:382d468f-3b53-4274-b65c-961905164e73:121' labels=frozenset({'Person'}) properties={'born': 1960, 'name': 'John Goodman'}>>\n",
      "<Record n=<Node element_id='4:382d468f-3b53-4274-b65c-961905164e73:122' labels=frozenset({'Person'}) properties={'born': 1946, 'name': 'Susan Sarandon'}>>\n",
      "<Record n=<Node element_id='4:382d468f-3b53-4274-b65c-961905164e73:123' labels=frozenset({'Person'}) properties={'born': 1966, 'name': 'Matthew Fox'}>>\n",
      "<Record n=<Node element_id='4:382d468f-3b53-4274-b65c-961905164e73:124' labels=frozenset({'Person'}) properties={'born': 1980, 'name': 'Christina Ricci'}>>\n",
      "<Record n=<Node element_id='4:382d468f-3b53-4274-b65c-961905164e73:125' labels=frozenset({'Person'}) properties={'born': 1982, 'name': 'Rain'}>>\n",
      "<Record n=<Node element_id='4:382d468f-3b53-4274-b65c-961905164e73:126' labels=frozenset({'Movie'}) properties={'tagline': 'Prepare to enter a secret world of assassins', 'title': 'Ninja Assassin', 'released': 2009}>>\n",
      "<Record n=<Node element_id='4:382d468f-3b53-4274-b65c-961905164e73:127' labels=frozenset({'Person'}) properties={'name': 'Naomie Harris'}>>\n",
      "<Record n=<Node element_id='4:382d468f-3b53-4274-b65c-961905164e73:128' labels=frozenset({'Movie'}) properties={'tagline': \"Walk a mile you'll never forget.\", 'title': 'The Green Mile', 'released': 1999}>>\n",
      "<Record n=<Node element_id='4:382d468f-3b53-4274-b65c-961905164e73:129' labels=frozenset({'Person'}) properties={'born': 1957, 'name': 'Michael Clarke Duncan'}>>\n",
      "<Record n=<Node element_id='4:382d468f-3b53-4274-b65c-961905164e73:130' labels=frozenset({'Person'}) properties={'born': 1953, 'name': 'David Morse'}>>\n",
      "<Record n=<Node element_id='4:382d468f-3b53-4274-b65c-961905164e73:131' labels=frozenset({'Person'}) properties={'born': 1968, 'name': 'Sam Rockwell'}>>\n",
      "<Record n=<Node element_id='4:382d468f-3b53-4274-b65c-961905164e73:132' labels=frozenset({'Person'}) properties={'born': 1955, 'name': 'Gary Sinise'}>>\n",
      "<Record n=<Node element_id='4:382d468f-3b53-4274-b65c-961905164e73:133' labels=frozenset({'Person'}) properties={'born': 1959, 'name': 'Patricia Clarkson'}>>\n",
      "<Record n=<Node element_id='4:382d468f-3b53-4274-b65c-961905164e73:134' labels=frozenset({'Person'}) properties={'born': 1959, 'name': 'Frank Darabont'}>>\n",
      "<Record n=<Node element_id='4:382d468f-3b53-4274-b65c-961905164e73:135' labels=frozenset({'Movie'}) properties={'tagline': '400 million people were waiting for the truth.', 'title': 'Frost/Nixon', 'released': 2008}>>\n",
      "<Record n=<Node element_id='4:382d468f-3b53-4274-b65c-961905164e73:136' labels=frozenset({'Person'}) properties={'born': 1938, 'name': 'Frank Langella'}>>\n",
      "<Record n=<Node element_id='4:382d468f-3b53-4274-b65c-961905164e73:137' labels=frozenset({'Person'}) properties={'born': 1969, 'name': 'Michael Sheen'}>>\n",
      "<Record n=<Node element_id='4:382d468f-3b53-4274-b65c-961905164e73:138' labels=frozenset({'Person'}) properties={'born': 1960, 'name': 'Oliver Platt'}>>\n",
      "<Record n=<Node element_id='4:382d468f-3b53-4274-b65c-961905164e73:139' labels=frozenset({'Movie'}) properties={'tagline': \"He didn't want law. He wanted justice.\", 'title': 'Hoffa', 'released': 1992}>>\n",
      "<Record n=<Node element_id='4:382d468f-3b53-4274-b65c-961905164e73:140' labels=frozenset({'Person'}) properties={'born': 1944, 'name': 'Danny DeVito'}>>\n",
      "<Record n=<Node element_id='4:382d468f-3b53-4274-b65c-961905164e73:141' labels=frozenset({'Person'}) properties={'born': 1965, 'name': 'John C. Reilly'}>>\n",
      "<Record n=<Node element_id='4:382d468f-3b53-4274-b65c-961905164e73:142' labels=frozenset({'Movie'}) properties={'tagline': 'Houston, we have a problem.', 'title': 'Apollo 13', 'released': 1995}>>\n",
      "<Record n=<Node element_id='4:382d468f-3b53-4274-b65c-961905164e73:143' labels=frozenset({'Person'}) properties={'born': 1950, 'name': 'Ed Harris'}>>\n",
      "<Record n=<Node element_id='4:382d468f-3b53-4274-b65c-961905164e73:144' labels=frozenset({'Person'}) properties={'born': 1955, 'name': 'Bill Paxton'}>>\n",
      "<Record n=<Node element_id='4:382d468f-3b53-4274-b65c-961905164e73:145' labels=frozenset({'Movie'}) properties={'tagline': \"Don't Breathe. Don't Look Back.\", 'title': 'Twister', 'released': 1996}>>\n",
      "<Record n=<Node element_id='4:382d468f-3b53-4274-b65c-961905164e73:146' labels=frozenset({'Person'}) properties={'born': 1967, 'name': 'Philip Seymour Hoffman'}>>\n",
      "<Record n=<Node element_id='4:382d468f-3b53-4274-b65c-961905164e73:147' labels=frozenset({'Person'}) properties={'born': 1943, 'name': 'Jan de Bont'}>>\n",
      "<Record n=<Node element_id='4:382d468f-3b53-4274-b65c-961905164e73:148' labels=frozenset({'Movie'}) properties={'tagline': 'At the edge of the world, his journey begins.', 'title': 'Cast Away', 'released': 2000}>>\n",
      "<Record n=<Node element_id='4:382d468f-3b53-4274-b65c-961905164e73:149' labels=frozenset({'Person'}) properties={'born': 1951, 'name': 'Robert Zemeckis'}>>\n",
      "<Record n=<Node element_id='4:382d468f-3b53-4274-b65c-961905164e73:150' labels=frozenset({'Movie'}) properties={'tagline': \"If he's crazy, what does that make you?\", 'title': \"One Flew Over the Cuckoo's Nest\", 'released': 1975}>>\n",
      "<Record n=<Node element_id='4:382d468f-3b53-4274-b65c-961905164e73:151' labels=frozenset({'Person'}) properties={'born': 1932, 'name': 'Milos Forman'}>>\n",
      "<Record n=<Node element_id='4:382d468f-3b53-4274-b65c-961905164e73:152' labels=frozenset({'Movie'}) properties={'title': \"Something's Gotta Give\", 'released': 2003}>>\n",
      "<Record n=<Node element_id='4:382d468f-3b53-4274-b65c-961905164e73:153' labels=frozenset({'Person'}) properties={'born': 1946, 'name': 'Diane Keaton'}>>\n",
      "<Record n=<Node element_id='4:382d468f-3b53-4274-b65c-961905164e73:154' labels=frozenset({'Person'}) properties={'born': 1949, 'name': 'Nancy Meyers'}>>\n",
      "<Record n=<Node element_id='4:382d468f-3b53-4274-b65c-961905164e73:155' labels=frozenset({'Movie'}) properties={'tagline': \"One robot's 200 year journey to become an ordinary man.\", 'title': 'Bicentennial Man', 'released': 1999}>>\n",
      "<Record n=<Node element_id='4:382d468f-3b53-4274-b65c-961905164e73:156' labels=frozenset({'Person'}) properties={'born': 1958, 'name': 'Chris Columbus'}>>\n",
      "<Record n=<Node element_id='4:382d468f-3b53-4274-b65c-961905164e73:157' labels=frozenset({'Movie'}) properties={'tagline': \"A stiff drink. A little mascara. A lot of nerve. Who said they couldn't bring down the Soviet empire.\", 'title': \"Charlie Wilson's War\", 'released': 2007}>>\n",
      "<Record n=<Node element_id='4:382d468f-3b53-4274-b65c-961905164e73:158' labels=frozenset({'Person'}) properties={'born': 1967, 'name': 'Julia Roberts'}>>\n",
      "<Record n=<Node element_id='4:382d468f-3b53-4274-b65c-961905164e73:159' labels=frozenset({'Movie'}) properties={'tagline': 'This Holiday Season… Believe', 'title': 'The Polar Express', 'released': 2004}>>\n",
      "<Record n=<Node element_id='4:382d468f-3b53-4274-b65c-961905164e73:160' labels=frozenset({'Movie'}) properties={'tagline': 'Once in a lifetime you get a chance to do something different.', 'title': 'A League of Their Own', 'released': 1992}>>\n",
      "<Record n=<Node element_id='4:382d468f-3b53-4274-b65c-961905164e73:161' labels=frozenset({'Person'}) properties={'born': 1954, 'name': 'Madonna'}>>\n",
      "<Record n=<Node element_id='4:382d468f-3b53-4274-b65c-961905164e73:162' labels=frozenset({'Person'}) properties={'born': 1956, 'name': 'Geena Davis'}>>\n",
      "<Record n=<Node element_id='4:382d468f-3b53-4274-b65c-961905164e73:163' labels=frozenset({'Person'}) properties={'born': 1963, 'name': 'Lori Petty'}>>\n",
      "<Record n=<Node element_id='4:382d468f-3b53-4274-b65c-961905164e73:164' labels=frozenset({'Person'}) properties={'born': 1943, 'name': 'Penny Marshall'}>>\n",
      "<Record n=<Node element_id='4:382d468f-3b53-4274-b65c-961905164e73:165' labels=frozenset({'Person'}) properties={'name': 'Paul Blythe'}>>\n",
      "<Record n=<Node element_id='4:382d468f-3b53-4274-b65c-961905164e73:166' labels=frozenset({'Person'}) properties={'name': 'Angela Scope'}>>\n",
      "<Record n=<Node element_id='4:382d468f-3b53-4274-b65c-961905164e73:167' labels=frozenset({'Person'}) properties={'name': 'Jessica Thompson'}>>\n",
      "<Record n=<Node element_id='4:382d468f-3b53-4274-b65c-961905164e73:168' labels=frozenset({'Person'}) properties={'name': 'James Thompson'}>>\n",
      "<Record n=<Node element_id='4:382d468f-3b53-4274-b65c-961905164e73:169' labels=frozenset({'Movie'}) properties={'tagline': 'Act like you own the place', 'title': 'Parasite', 'released': 2019}>>\n",
      "<Record n=<Node element_id='4:382d468f-3b53-4274-b65c-961905164e73:170' labels=frozenset({'Person'}) properties={'name': 'Kang-ho Song'}>>\n",
      "<Record n=<Node element_id='4:382d468f-3b53-4274-b65c-961905164e73:171' labels=frozenset({'Person'}) properties={'name': 'Sun-kyun Lee'}>>\n",
      "<Record n=<Node element_id='4:382d468f-3b53-4274-b65c-961905164e73:172' labels=frozenset({'Person'}) properties={'name': 'Yeo-jeong Jo'}>>\n",
      "<Record n=<Node element_id='4:382d468f-3b53-4274-b65c-961905164e73:173' labels=frozenset({'Person'}) properties={'name': 'Woo-sik Choi'}>>\n",
      "<Record n=<Node element_id='4:382d468f-3b53-4274-b65c-961905164e73:174' labels=frozenset({'Person'}) properties={'name': 'So-dam Park'}>>\n",
      "<Record n=<Node element_id='4:382d468f-3b53-4274-b65c-961905164e73:175' labels=frozenset({'Movie'}) properties={'tagline': 'Put on a happy face', 'title': 'Joker', 'released': 2019}>>\n",
      "<Record n=<Node element_id='4:382d468f-3b53-4274-b65c-961905164e73:176' labels=frozenset({'Person'}) properties={'name': 'Joaquin Phoenix'}>>\n",
      "<Record n=<Node element_id='4:382d468f-3b53-4274-b65c-961905164e73:177' labels=frozenset({'Person'}) properties={'name': 'Robert De Niro'}>>\n",
      "<Record n=<Node element_id='4:382d468f-3b53-4274-b65c-961905164e73:178' labels=frozenset({'Person'}) properties={'name': 'Zazie Beetz'}>>\n"
     ]
    }
   ],
   "source": [
    "q1 = 'match (n) return (n)'\n",
    "nodes = session.run(q1)\n",
    "for node in nodes:\n",
    "    print (node)"
   ]
  },
  {
   "attachments": {},
   "cell_type": "markdown",
   "metadata": {},
   "source": [
    "Finding all the movie title "
   ]
  },
  {
   "cell_type": "code",
   "execution_count": 20,
   "metadata": {},
   "outputs": [
    {
     "name": "stdout",
     "output_type": "stream",
     "text": [
      "<Record movie.title='The Matrix'>\n",
      "<Record movie.title='The Matrix Reloaded'>\n",
      "<Record movie.title='The Matrix Revolutions'>\n",
      "<Record movie.title=\"The Devil's Advocate\">\n",
      "<Record movie.title='A Few Good Men'>\n",
      "<Record movie.title='Top Gun'>\n",
      "<Record movie.title='Jerry Maguire'>\n",
      "<Record movie.title='Stand By Me'>\n",
      "<Record movie.title='As Good as It Gets'>\n",
      "<Record movie.title='What Dreams May Come'>\n",
      "<Record movie.title='Snow Falling on Cedars'>\n",
      "<Record movie.title=\"You've Got Mail\">\n",
      "<Record movie.title='Sleepless in Seattle'>\n",
      "<Record movie.title='Joe Versus the Volcano'>\n",
      "<Record movie.title='When Harry Met Sally'>\n",
      "<Record movie.title='That Thing You Do'>\n",
      "<Record movie.title='The Replacements'>\n",
      "<Record movie.title='RescueDawn'>\n",
      "<Record movie.title='The Birdcage'>\n",
      "<Record movie.title='Unforgiven'>\n",
      "<Record movie.title='Johnny Mnemonic'>\n",
      "<Record movie.title='Cloud Atlas'>\n",
      "<Record movie.title='The Da Vinci Code'>\n",
      "<Record movie.title='V for Vendetta'>\n",
      "<Record movie.title='Speed Racer'>\n",
      "<Record movie.title='Ninja Assassin'>\n",
      "<Record movie.title='The Green Mile'>\n",
      "<Record movie.title='Frost/Nixon'>\n",
      "<Record movie.title='Hoffa'>\n",
      "<Record movie.title='Apollo 13'>\n",
      "<Record movie.title='Twister'>\n",
      "<Record movie.title='Cast Away'>\n",
      "<Record movie.title=\"One Flew Over the Cuckoo's Nest\">\n",
      "<Record movie.title=\"Something's Gotta Give\">\n",
      "<Record movie.title='Bicentennial Man'>\n",
      "<Record movie.title=\"Charlie Wilson's War\">\n",
      "<Record movie.title='The Polar Express'>\n",
      "<Record movie.title='A League of Their Own'>\n",
      "<Record movie.title='Parasite'>\n",
      "<Record movie.title='Joker'>\n"
     ]
    }
   ],
   "source": [
    "q1 = 'match(movie:Movie) return movie.title'\n",
    "nodes = session.run(q1)\n",
    "for node in nodes:\n",
    "    print (node)"
   ]
  },
  {
   "attachments": {},
   "cell_type": "markdown",
   "metadata": {},
   "source": [
    "Count of movie"
   ]
  },
  {
   "cell_type": "code",
   "execution_count": 21,
   "metadata": {},
   "outputs": [
    {
     "name": "stdout",
     "output_type": "stream",
     "text": [
      "<Record Count(movie.title)=40>\n"
     ]
    }
   ],
   "source": [
    "q1 = 'match(movie:Movie) return Count(movie.title)'\n",
    "nodes = session.run(q1)\n",
    "for node in nodes:\n",
    "    print (node)"
   ]
  },
  {
   "attachments": {},
   "cell_type": "markdown",
   "metadata": {},
   "source": [
    "Finding name of all the persons in database"
   ]
  },
  {
   "cell_type": "code",
   "execution_count": 22,
   "metadata": {},
   "outputs": [
    {
     "name": "stdout",
     "output_type": "stream",
     "text": [
      "<Record person=<Node element_id='4:382d468f-3b53-4274-b65c-961905164e73:1' labels=frozenset({'Person'}) properties={'born': 1964, 'name': 'Keanu Reeves'}>>\n",
      "<Record person=<Node element_id='4:382d468f-3b53-4274-b65c-961905164e73:2' labels=frozenset({'Person'}) properties={'born': 1967, 'name': 'Carrie-Anne Moss'}>>\n",
      "<Record person=<Node element_id='4:382d468f-3b53-4274-b65c-961905164e73:3' labels=frozenset({'Person'}) properties={'born': 1961, 'name': 'Laurence Fishburne'}>>\n",
      "<Record person=<Node element_id='4:382d468f-3b53-4274-b65c-961905164e73:4' labels=frozenset({'Person'}) properties={'born': 1960, 'name': 'Hugo Weaving'}>>\n",
      "<Record person=<Node element_id='4:382d468f-3b53-4274-b65c-961905164e73:5' labels=frozenset({'Person'}) properties={'born': 1967, 'name': 'Andy Wachowski'}>>\n",
      "<Record person=<Node element_id='4:382d468f-3b53-4274-b65c-961905164e73:6' labels=frozenset({'Person'}) properties={'born': 1965, 'name': 'Lana Wachowski'}>>\n",
      "<Record person=<Node element_id='4:382d468f-3b53-4274-b65c-961905164e73:7' labels=frozenset({'Person'}) properties={'born': 1952, 'name': 'Joel Silver'}>>\n",
      "<Record person=<Node element_id='4:382d468f-3b53-4274-b65c-961905164e73:8' labels=frozenset({'Person'}) properties={'born': 1978, 'name': 'Emil Eifrem'}>>\n",
      "<Record person=<Node element_id='4:382d468f-3b53-4274-b65c-961905164e73:12' labels=frozenset({'Person'}) properties={'born': 1975, 'name': 'Charlize Theron'}>>\n",
      "<Record person=<Node element_id='4:382d468f-3b53-4274-b65c-961905164e73:13' labels=frozenset({'Person'}) properties={'born': 1940, 'name': 'Al Pacino'}>>\n",
      "<Record person=<Node element_id='4:382d468f-3b53-4274-b65c-961905164e73:14' labels=frozenset({'Person'}) properties={'born': 1944, 'name': 'Taylor Hackford'}>>\n",
      "<Record person=<Node element_id='4:382d468f-3b53-4274-b65c-961905164e73:16' labels=frozenset({'Person'}) properties={'born': 1962, 'name': 'Tom Cruise'}>>\n",
      "<Record person=<Node element_id='4:382d468f-3b53-4274-b65c-961905164e73:17' labels=frozenset({'Person'}) properties={'born': 1937, 'name': 'Jack Nicholson'}>>\n",
      "<Record person=<Node element_id='4:382d468f-3b53-4274-b65c-961905164e73:18' labels=frozenset({'Person'}) properties={'born': 1962, 'name': 'Demi Moore'}>>\n",
      "<Record person=<Node element_id='4:382d468f-3b53-4274-b65c-961905164e73:19' labels=frozenset({'Person'}) properties={'born': 1958, 'name': 'Kevin Bacon'}>>\n",
      "<Record person=<Node element_id='4:382d468f-3b53-4274-b65c-961905164e73:20' labels=frozenset({'Person'}) properties={'born': 1966, 'name': 'Kiefer Sutherland'}>>\n",
      "<Record person=<Node element_id='4:382d468f-3b53-4274-b65c-961905164e73:21' labels=frozenset({'Person'}) properties={'born': 1971, 'name': 'Noah Wyle'}>>\n",
      "<Record person=<Node element_id='4:382d468f-3b53-4274-b65c-961905164e73:22' labels=frozenset({'Person'}) properties={'born': 1968, 'name': 'Cuba Gooding Jr.'}>>\n",
      "<Record person=<Node element_id='4:382d468f-3b53-4274-b65c-961905164e73:23' labels=frozenset({'Person'}) properties={'born': 1957, 'name': 'Kevin Pollak'}>>\n",
      "<Record person=<Node element_id='4:382d468f-3b53-4274-b65c-961905164e73:24' labels=frozenset({'Person'}) properties={'born': 1943, 'name': 'J.T. Walsh'}>>\n",
      "<Record person=<Node element_id='4:382d468f-3b53-4274-b65c-961905164e73:25' labels=frozenset({'Person'}) properties={'born': 1967, 'name': 'James Marshall'}>>\n",
      "<Record person=<Node element_id='4:382d468f-3b53-4274-b65c-961905164e73:26' labels=frozenset({'Person'}) properties={'born': 1948, 'name': 'Christopher Guest'}>>\n",
      "<Record person=<Node element_id='4:382d468f-3b53-4274-b65c-961905164e73:27' labels=frozenset({'Person'}) properties={'born': 1947, 'name': 'Rob Reiner'}>>\n",
      "<Record person=<Node element_id='4:382d468f-3b53-4274-b65c-961905164e73:28' labels=frozenset({'Person'}) properties={'born': 1961, 'name': 'Aaron Sorkin'}>>\n",
      "<Record person=<Node element_id='4:382d468f-3b53-4274-b65c-961905164e73:30' labels=frozenset({'Person'}) properties={'born': 1957, 'name': 'Kelly McGillis'}>>\n",
      "<Record person=<Node element_id='4:382d468f-3b53-4274-b65c-961905164e73:31' labels=frozenset({'Person'}) properties={'born': 1959, 'name': 'Val Kilmer'}>>\n",
      "<Record person=<Node element_id='4:382d468f-3b53-4274-b65c-961905164e73:32' labels=frozenset({'Person'}) properties={'born': 1962, 'name': 'Anthony Edwards'}>>\n",
      "<Record person=<Node element_id='4:382d468f-3b53-4274-b65c-961905164e73:33' labels=frozenset({'Person'}) properties={'born': 1933, 'name': 'Tom Skerritt'}>>\n",
      "<Record person=<Node element_id='4:382d468f-3b53-4274-b65c-961905164e73:34' labels=frozenset({'Person'}) properties={'born': 1961, 'name': 'Meg Ryan'}>>\n",
      "<Record person=<Node element_id='4:382d468f-3b53-4274-b65c-961905164e73:35' labels=frozenset({'Person'}) properties={'born': 1944, 'name': 'Tony Scott'}>>\n",
      "<Record person=<Node element_id='4:382d468f-3b53-4274-b65c-961905164e73:36' labels=frozenset({'Person'}) properties={'born': 1941, 'name': 'Jim Cash'}>>\n",
      "<Record person=<Node element_id='4:382d468f-3b53-4274-b65c-961905164e73:38' labels=frozenset({'Person'}) properties={'born': 1969, 'name': 'Renee Zellweger'}>>\n",
      "<Record person=<Node element_id='4:382d468f-3b53-4274-b65c-961905164e73:39' labels=frozenset({'Person'}) properties={'born': 1962, 'name': 'Kelly Preston'}>>\n",
      "<Record person=<Node element_id='4:382d468f-3b53-4274-b65c-961905164e73:40' labels=frozenset({'Person'}) properties={'born': 1974, 'name': \"Jerry O'Connell\"}>>\n",
      "<Record person=<Node element_id='4:382d468f-3b53-4274-b65c-961905164e73:41' labels=frozenset({'Person'}) properties={'born': 1970, 'name': 'Jay Mohr'}>>\n",
      "<Record person=<Node element_id='4:382d468f-3b53-4274-b65c-961905164e73:42' labels=frozenset({'Person'}) properties={'born': 1961, 'name': 'Bonnie Hunt'}>>\n",
      "<Record person=<Node element_id='4:382d468f-3b53-4274-b65c-961905164e73:43' labels=frozenset({'Person'}) properties={'born': 1971, 'name': 'Regina King'}>>\n",
      "<Record person=<Node element_id='4:382d468f-3b53-4274-b65c-961905164e73:44' labels=frozenset({'Person'}) properties={'born': 1996, 'name': 'Jonathan Lipnicki'}>>\n",
      "<Record person=<Node element_id='4:382d468f-3b53-4274-b65c-961905164e73:45' labels=frozenset({'Person'}) properties={'born': 1957, 'name': 'Cameron Crowe'}>>\n",
      "<Record person=<Node element_id='4:382d468f-3b53-4274-b65c-961905164e73:47' labels=frozenset({'Person'}) properties={'born': 1970, 'name': 'River Phoenix'}>>\n",
      "<Record person=<Node element_id='4:382d468f-3b53-4274-b65c-961905164e73:48' labels=frozenset({'Person'}) properties={'born': 1971, 'name': 'Corey Feldman'}>>\n",
      "<Record person=<Node element_id='4:382d468f-3b53-4274-b65c-961905164e73:49' labels=frozenset({'Person'}) properties={'born': 1972, 'name': 'Wil Wheaton'}>>\n",
      "<Record person=<Node element_id='4:382d468f-3b53-4274-b65c-961905164e73:50' labels=frozenset({'Person'}) properties={'born': 1966, 'name': 'John Cusack'}>>\n",
      "<Record person=<Node element_id='4:382d468f-3b53-4274-b65c-961905164e73:51' labels=frozenset({'Person'}) properties={'born': 1942, 'name': 'Marshall Bell'}>>\n",
      "<Record person=<Node element_id='4:382d468f-3b53-4274-b65c-961905164e73:53' labels=frozenset({'Person'}) properties={'born': 1963, 'name': 'Helen Hunt'}>>\n",
      "<Record person=<Node element_id='4:382d468f-3b53-4274-b65c-961905164e73:54' labels=frozenset({'Person'}) properties={'born': 1963, 'name': 'Greg Kinnear'}>>\n",
      "<Record person=<Node element_id='4:382d468f-3b53-4274-b65c-961905164e73:55' labels=frozenset({'Person'}) properties={'born': 1940, 'name': 'James L. Brooks'}>>\n",
      "<Record person=<Node element_id='4:382d468f-3b53-4274-b65c-961905164e73:57' labels=frozenset({'Person'}) properties={'born': 1960, 'name': 'Annabella Sciorra'}>>\n",
      "<Record person=<Node element_id='4:382d468f-3b53-4274-b65c-961905164e73:58' labels=frozenset({'Person'}) properties={'born': 1929, 'name': 'Max von Sydow'}>>\n",
      "<Record person=<Node element_id='4:382d468f-3b53-4274-b65c-961905164e73:59' labels=frozenset({'Person'}) properties={'born': 1942, 'name': 'Werner Herzog'}>>\n",
      "<Record person=<Node element_id='4:382d468f-3b53-4274-b65c-961905164e73:60' labels=frozenset({'Person'}) properties={'born': 1951, 'name': 'Robin Williams'}>>\n",
      "<Record person=<Node element_id='4:382d468f-3b53-4274-b65c-961905164e73:61' labels=frozenset({'Person'}) properties={'born': 1956, 'name': 'Vincent Ward'}>>\n",
      "<Record person=<Node element_id='4:382d468f-3b53-4274-b65c-961905164e73:63' labels=frozenset({'Person'}) properties={'born': 1970, 'name': 'Ethan Hawke'}>>\n",
      "<Record person=<Node element_id='4:382d468f-3b53-4274-b65c-961905164e73:64' labels=frozenset({'Person'}) properties={'born': 1971, 'name': 'Rick Yune'}>>\n",
      "<Record person=<Node element_id='4:382d468f-3b53-4274-b65c-961905164e73:65' labels=frozenset({'Person'}) properties={'born': 1940, 'name': 'James Cromwell'}>>\n",
      "<Record person=<Node element_id='4:382d468f-3b53-4274-b65c-961905164e73:66' labels=frozenset({'Person'}) properties={'born': 1953, 'name': 'Scott Hicks'}>>\n",
      "<Record person=<Node element_id='4:382d468f-3b53-4274-b65c-961905164e73:68' labels=frozenset({'Person'}) properties={'born': 1968, 'name': 'Parker Posey'}>>\n",
      "<Record person=<Node element_id='4:382d468f-3b53-4274-b65c-961905164e73:69' labels=frozenset({'Person'}) properties={'born': 1973, 'name': 'Dave Chappelle'}>>\n",
      "<Record person=<Node element_id='4:382d468f-3b53-4274-b65c-961905164e73:70' labels=frozenset({'Person'}) properties={'born': 1967, 'name': 'Steve Zahn'}>>\n",
      "<Record person=<Node element_id='4:382d468f-3b53-4274-b65c-961905164e73:71' labels=frozenset({'Person'}) properties={'born': 1956, 'name': 'Tom Hanks'}>>\n",
      "<Record person=<Node element_id='4:382d468f-3b53-4274-b65c-961905164e73:72' labels=frozenset({'Person'}) properties={'born': 1941, 'name': 'Nora Ephron'}>>\n",
      "<Record person=<Node element_id='4:382d468f-3b53-4274-b65c-961905164e73:74' labels=frozenset({'Person'}) properties={'born': 1956, 'name': 'Rita Wilson'}>>\n",
      "<Record person=<Node element_id='4:382d468f-3b53-4274-b65c-961905164e73:75' labels=frozenset({'Person'}) properties={'born': 1953, 'name': 'Bill Pullman'}>>\n",
      "<Record person=<Node element_id='4:382d468f-3b53-4274-b65c-961905164e73:76' labels=frozenset({'Person'}) properties={'born': 1949, 'name': 'Victor Garber'}>>\n",
      "<Record person=<Node element_id='4:382d468f-3b53-4274-b65c-961905164e73:77' labels=frozenset({'Person'}) properties={'born': 1962, 'name': \"Rosie O'Donnell\"}>>\n",
      "<Record person=<Node element_id='4:382d468f-3b53-4274-b65c-961905164e73:79' labels=frozenset({'Person'}) properties={'born': 1950, 'name': 'John Patrick Stanley'}>>\n",
      "<Record person=<Node element_id='4:382d468f-3b53-4274-b65c-961905164e73:80' labels=frozenset({'Person'}) properties={'born': 1956, 'name': 'Nathan Lane'}>>\n",
      "<Record person=<Node element_id='4:382d468f-3b53-4274-b65c-961905164e73:82' labels=frozenset({'Person'}) properties={'born': 1948, 'name': 'Billy Crystal'}>>\n",
      "<Record person=<Node element_id='4:382d468f-3b53-4274-b65c-961905164e73:83' labels=frozenset({'Person'}) properties={'born': 1956, 'name': 'Carrie Fisher'}>>\n",
      "<Record person=<Node element_id='4:382d468f-3b53-4274-b65c-961905164e73:84' labels=frozenset({'Person'}) properties={'born': 1949, 'name': 'Bruno Kirby'}>>\n",
      "<Record person=<Node element_id='4:382d468f-3b53-4274-b65c-961905164e73:86' labels=frozenset({'Person'}) properties={'born': 1977, 'name': 'Liv Tyler'}>>\n",
      "<Record person=<Node element_id='4:382d468f-3b53-4274-b65c-961905164e73:88' labels=frozenset({'Person'}) properties={'born': 1970, 'name': 'Brooke Langton'}>>\n",
      "<Record person=<Node element_id='4:382d468f-3b53-4274-b65c-961905164e73:89' labels=frozenset({'Person'}) properties={'born': 1930, 'name': 'Gene Hackman'}>>\n",
      "<Record person=<Node element_id='4:382d468f-3b53-4274-b65c-961905164e73:90' labels=frozenset({'Person'}) properties={'born': 1968, 'name': 'Orlando Jones'}>>\n",
      "<Record person=<Node element_id='4:382d468f-3b53-4274-b65c-961905164e73:91' labels=frozenset({'Person'}) properties={'born': 1950, 'name': 'Howard Deutch'}>>\n",
      "<Record person=<Node element_id='4:382d468f-3b53-4274-b65c-961905164e73:93' labels=frozenset({'Person'}) properties={'born': 1974, 'name': 'Christian Bale'}>>\n",
      "<Record person=<Node element_id='4:382d468f-3b53-4274-b65c-961905164e73:94' labels=frozenset({'Person'}) properties={'born': 1954, 'name': 'Zach Grenier'}>>\n",
      "<Record person=<Node element_id='4:382d468f-3b53-4274-b65c-961905164e73:96' labels=frozenset({'Person'}) properties={'born': 1931, 'name': 'Mike Nichols'}>>\n",
      "<Record person=<Node element_id='4:382d468f-3b53-4274-b65c-961905164e73:98' labels=frozenset({'Person'}) properties={'born': 1930, 'name': 'Richard Harris'}>>\n",
      "<Record person=<Node element_id='4:382d468f-3b53-4274-b65c-961905164e73:99' labels=frozenset({'Person'}) properties={'born': 1930, 'name': 'Clint Eastwood'}>>\n",
      "<Record person=<Node element_id='4:382d468f-3b53-4274-b65c-961905164e73:101' labels=frozenset({'Person'}) properties={'born': 1947, 'name': 'Takeshi Kitano'}>>\n",
      "<Record person=<Node element_id='4:382d468f-3b53-4274-b65c-961905164e73:102' labels=frozenset({'Person'}) properties={'born': 1968, 'name': 'Dina Meyer'}>>\n",
      "<Record person=<Node element_id='4:382d468f-3b53-4274-b65c-961905164e73:103' labels=frozenset({'Person'}) properties={'born': 1958, 'name': 'Ice-T'}>>\n",
      "<Record person=<Node element_id='4:382d468f-3b53-4274-b65c-961905164e73:104' labels=frozenset({'Person'}) properties={'born': 1953, 'name': 'Robert Longo'}>>\n",
      "<Record person=<Node element_id='4:382d468f-3b53-4274-b65c-961905164e73:106' labels=frozenset({'Person'}) properties={'born': 1966, 'name': 'Halle Berry'}>>\n",
      "<Record person=<Node element_id='4:382d468f-3b53-4274-b65c-961905164e73:107' labels=frozenset({'Person'}) properties={'born': 1949, 'name': 'Jim Broadbent'}>>\n",
      "<Record person=<Node element_id='4:382d468f-3b53-4274-b65c-961905164e73:108' labels=frozenset({'Person'}) properties={'born': 1965, 'name': 'Tom Tykwer'}>>\n",
      "<Record person=<Node element_id='4:382d468f-3b53-4274-b65c-961905164e73:110' labels=frozenset({'Person'}) properties={'born': 1939, 'name': 'Ian McKellen'}>>\n",
      "<Record person=<Node element_id='4:382d468f-3b53-4274-b65c-961905164e73:111' labels=frozenset({'Person'}) properties={'born': 1976, 'name': 'Audrey Tautou'}>>\n",
      "<Record person=<Node element_id='4:382d468f-3b53-4274-b65c-961905164e73:112' labels=frozenset({'Person'}) properties={'born': 1971, 'name': 'Paul Bettany'}>>\n",
      "<Record person=<Node element_id='4:382d468f-3b53-4274-b65c-961905164e73:113' labels=frozenset({'Person'}) properties={'born': 1954, 'name': 'Ron Howard'}>>\n",
      "<Record person=<Node element_id='4:382d468f-3b53-4274-b65c-961905164e73:115' labels=frozenset({'Person'}) properties={'born': 1981, 'name': 'Natalie Portman'}>>\n",
      "<Record person=<Node element_id='4:382d468f-3b53-4274-b65c-961905164e73:116' labels=frozenset({'Person'}) properties={'born': 1946, 'name': 'Stephen Rea'}>>\n",
      "<Record person=<Node element_id='4:382d468f-3b53-4274-b65c-961905164e73:117' labels=frozenset({'Person'}) properties={'born': 1940, 'name': 'John Hurt'}>>\n",
      "<Record person=<Node element_id='4:382d468f-3b53-4274-b65c-961905164e73:118' labels=frozenset({'Person'}) properties={'born': 1967, 'name': 'Ben Miles'}>>\n",
      "<Record person=<Node element_id='4:382d468f-3b53-4274-b65c-961905164e73:120' labels=frozenset({'Person'}) properties={'born': 1985, 'name': 'Emile Hirsch'}>>\n",
      "<Record person=<Node element_id='4:382d468f-3b53-4274-b65c-961905164e73:121' labels=frozenset({'Person'}) properties={'born': 1960, 'name': 'John Goodman'}>>\n",
      "<Record person=<Node element_id='4:382d468f-3b53-4274-b65c-961905164e73:122' labels=frozenset({'Person'}) properties={'born': 1946, 'name': 'Susan Sarandon'}>>\n",
      "<Record person=<Node element_id='4:382d468f-3b53-4274-b65c-961905164e73:123' labels=frozenset({'Person'}) properties={'born': 1966, 'name': 'Matthew Fox'}>>\n",
      "<Record person=<Node element_id='4:382d468f-3b53-4274-b65c-961905164e73:124' labels=frozenset({'Person'}) properties={'born': 1980, 'name': 'Christina Ricci'}>>\n",
      "<Record person=<Node element_id='4:382d468f-3b53-4274-b65c-961905164e73:125' labels=frozenset({'Person'}) properties={'born': 1982, 'name': 'Rain'}>>\n",
      "<Record person=<Node element_id='4:382d468f-3b53-4274-b65c-961905164e73:127' labels=frozenset({'Person'}) properties={'name': 'Naomie Harris'}>>\n",
      "<Record person=<Node element_id='4:382d468f-3b53-4274-b65c-961905164e73:129' labels=frozenset({'Person'}) properties={'born': 1957, 'name': 'Michael Clarke Duncan'}>>\n",
      "<Record person=<Node element_id='4:382d468f-3b53-4274-b65c-961905164e73:130' labels=frozenset({'Person'}) properties={'born': 1953, 'name': 'David Morse'}>>\n",
      "<Record person=<Node element_id='4:382d468f-3b53-4274-b65c-961905164e73:131' labels=frozenset({'Person'}) properties={'born': 1968, 'name': 'Sam Rockwell'}>>\n",
      "<Record person=<Node element_id='4:382d468f-3b53-4274-b65c-961905164e73:132' labels=frozenset({'Person'}) properties={'born': 1955, 'name': 'Gary Sinise'}>>\n",
      "<Record person=<Node element_id='4:382d468f-3b53-4274-b65c-961905164e73:133' labels=frozenset({'Person'}) properties={'born': 1959, 'name': 'Patricia Clarkson'}>>\n",
      "<Record person=<Node element_id='4:382d468f-3b53-4274-b65c-961905164e73:134' labels=frozenset({'Person'}) properties={'born': 1959, 'name': 'Frank Darabont'}>>\n",
      "<Record person=<Node element_id='4:382d468f-3b53-4274-b65c-961905164e73:136' labels=frozenset({'Person'}) properties={'born': 1938, 'name': 'Frank Langella'}>>\n",
      "<Record person=<Node element_id='4:382d468f-3b53-4274-b65c-961905164e73:137' labels=frozenset({'Person'}) properties={'born': 1969, 'name': 'Michael Sheen'}>>\n",
      "<Record person=<Node element_id='4:382d468f-3b53-4274-b65c-961905164e73:138' labels=frozenset({'Person'}) properties={'born': 1960, 'name': 'Oliver Platt'}>>\n",
      "<Record person=<Node element_id='4:382d468f-3b53-4274-b65c-961905164e73:140' labels=frozenset({'Person'}) properties={'born': 1944, 'name': 'Danny DeVito'}>>\n",
      "<Record person=<Node element_id='4:382d468f-3b53-4274-b65c-961905164e73:141' labels=frozenset({'Person'}) properties={'born': 1965, 'name': 'John C. Reilly'}>>\n",
      "<Record person=<Node element_id='4:382d468f-3b53-4274-b65c-961905164e73:143' labels=frozenset({'Person'}) properties={'born': 1950, 'name': 'Ed Harris'}>>\n",
      "<Record person=<Node element_id='4:382d468f-3b53-4274-b65c-961905164e73:144' labels=frozenset({'Person'}) properties={'born': 1955, 'name': 'Bill Paxton'}>>\n",
      "<Record person=<Node element_id='4:382d468f-3b53-4274-b65c-961905164e73:146' labels=frozenset({'Person'}) properties={'born': 1967, 'name': 'Philip Seymour Hoffman'}>>\n",
      "<Record person=<Node element_id='4:382d468f-3b53-4274-b65c-961905164e73:147' labels=frozenset({'Person'}) properties={'born': 1943, 'name': 'Jan de Bont'}>>\n",
      "<Record person=<Node element_id='4:382d468f-3b53-4274-b65c-961905164e73:149' labels=frozenset({'Person'}) properties={'born': 1951, 'name': 'Robert Zemeckis'}>>\n",
      "<Record person=<Node element_id='4:382d468f-3b53-4274-b65c-961905164e73:151' labels=frozenset({'Person'}) properties={'born': 1932, 'name': 'Milos Forman'}>>\n",
      "<Record person=<Node element_id='4:382d468f-3b53-4274-b65c-961905164e73:153' labels=frozenset({'Person'}) properties={'born': 1946, 'name': 'Diane Keaton'}>>\n",
      "<Record person=<Node element_id='4:382d468f-3b53-4274-b65c-961905164e73:154' labels=frozenset({'Person'}) properties={'born': 1949, 'name': 'Nancy Meyers'}>>\n",
      "<Record person=<Node element_id='4:382d468f-3b53-4274-b65c-961905164e73:156' labels=frozenset({'Person'}) properties={'born': 1958, 'name': 'Chris Columbus'}>>\n",
      "<Record person=<Node element_id='4:382d468f-3b53-4274-b65c-961905164e73:158' labels=frozenset({'Person'}) properties={'born': 1967, 'name': 'Julia Roberts'}>>\n",
      "<Record person=<Node element_id='4:382d468f-3b53-4274-b65c-961905164e73:161' labels=frozenset({'Person'}) properties={'born': 1954, 'name': 'Madonna'}>>\n",
      "<Record person=<Node element_id='4:382d468f-3b53-4274-b65c-961905164e73:162' labels=frozenset({'Person'}) properties={'born': 1956, 'name': 'Geena Davis'}>>\n",
      "<Record person=<Node element_id='4:382d468f-3b53-4274-b65c-961905164e73:163' labels=frozenset({'Person'}) properties={'born': 1963, 'name': 'Lori Petty'}>>\n",
      "<Record person=<Node element_id='4:382d468f-3b53-4274-b65c-961905164e73:164' labels=frozenset({'Person'}) properties={'born': 1943, 'name': 'Penny Marshall'}>>\n",
      "<Record person=<Node element_id='4:382d468f-3b53-4274-b65c-961905164e73:165' labels=frozenset({'Person'}) properties={'name': 'Paul Blythe'}>>\n",
      "<Record person=<Node element_id='4:382d468f-3b53-4274-b65c-961905164e73:166' labels=frozenset({'Person'}) properties={'name': 'Angela Scope'}>>\n",
      "<Record person=<Node element_id='4:382d468f-3b53-4274-b65c-961905164e73:167' labels=frozenset({'Person'}) properties={'name': 'Jessica Thompson'}>>\n",
      "<Record person=<Node element_id='4:382d468f-3b53-4274-b65c-961905164e73:168' labels=frozenset({'Person'}) properties={'name': 'James Thompson'}>>\n",
      "<Record person=<Node element_id='4:382d468f-3b53-4274-b65c-961905164e73:170' labels=frozenset({'Person'}) properties={'name': 'Kang-ho Song'}>>\n",
      "<Record person=<Node element_id='4:382d468f-3b53-4274-b65c-961905164e73:171' labels=frozenset({'Person'}) properties={'name': 'Sun-kyun Lee'}>>\n",
      "<Record person=<Node element_id='4:382d468f-3b53-4274-b65c-961905164e73:172' labels=frozenset({'Person'}) properties={'name': 'Yeo-jeong Jo'}>>\n",
      "<Record person=<Node element_id='4:382d468f-3b53-4274-b65c-961905164e73:173' labels=frozenset({'Person'}) properties={'name': 'Woo-sik Choi'}>>\n",
      "<Record person=<Node element_id='4:382d468f-3b53-4274-b65c-961905164e73:174' labels=frozenset({'Person'}) properties={'name': 'So-dam Park'}>>\n",
      "<Record person=<Node element_id='4:382d468f-3b53-4274-b65c-961905164e73:176' labels=frozenset({'Person'}) properties={'name': 'Joaquin Phoenix'}>>\n",
      "<Record person=<Node element_id='4:382d468f-3b53-4274-b65c-961905164e73:177' labels=frozenset({'Person'}) properties={'name': 'Robert De Niro'}>>\n",
      "<Record person=<Node element_id='4:382d468f-3b53-4274-b65c-961905164e73:178' labels=frozenset({'Person'}) properties={'name': 'Zazie Beetz'}>>\n"
     ]
    }
   ],
   "source": [
    "q1 = 'match (person:Person) return person'\n",
    "nodes = session.run(q1)\n",
    "for node in nodes:\n",
    "    print (node)"
   ]
  },
  {
   "attachments": {},
   "cell_type": "markdown",
   "metadata": {},
   "source": [
    "count of all the persons"
   ]
  },
  {
   "cell_type": "code",
   "execution_count": 23,
   "metadata": {},
   "outputs": [
    {
     "name": "stdout",
     "output_type": "stream",
     "text": [
      "<Record count(person)=139>\n"
     ]
    }
   ],
   "source": [
    "q1 = 'match (person:Person) return count(person)'\n",
    "nodes = session.run(q1)\n",
    "for node in nodes:\n",
    "    print (node)"
   ]
  },
  {
   "attachments": {},
   "cell_type": "markdown",
   "metadata": {},
   "source": [
    "Fining movies where 'Keanu Reeves' acted "
   ]
  },
  {
   "cell_type": "code",
   "execution_count": 24,
   "metadata": {},
   "outputs": [
    {
     "name": "stdout",
     "output_type": "stream",
     "text": [
      "<Record movie.title='The Replacements'>\n",
      "<Record movie.title='Johnny Mnemonic'>\n",
      "<Record movie.title=\"Something's Gotta Give\">\n",
      "<Record movie.title=\"The Devil's Advocate\">\n",
      "<Record movie.title='The Matrix Revolutions'>\n",
      "<Record movie.title='The Matrix Reloaded'>\n",
      "<Record movie.title='The Matrix'>\n"
     ]
    }
   ],
   "source": [
    "q1 = 'match(actor  : Person) -[:ACTED_IN] -> (movie:Movie) where actor.name = \"Keanu Reeves\" return movie.title'\n",
    "nodes = session.run(q1)\n",
    "for node in nodes:\n",
    "    print (node)"
   ]
  },
  {
   "attachments": {},
   "cell_type": "markdown",
   "metadata": {},
   "source": [
    "Movies released in a specific year"
   ]
  },
  {
   "cell_type": "code",
   "execution_count": 26,
   "metadata": {},
   "outputs": [
    {
     "name": "stdout",
     "output_type": "stream",
     "text": [
      "<Record movie.title='What Dreams May Come'>\n",
      "<Record movie.title=\"You've Got Mail\">\n",
      "<Record movie.title='When Harry Met Sally'>\n"
     ]
    }
   ],
   "source": [
    "q1 = 'match (movie : Movie) where movie.released = 1998 return movie.title'\n",
    "nodes = session.run(q1)\n",
    "for node in nodes:\n",
    "    print (node)"
   ]
  },
  {
   "attachments": {},
   "cell_type": "markdown",
   "metadata": {},
   "source": [
    "Movies not released in a specific year"
   ]
  },
  {
   "cell_type": "code",
   "execution_count": 27,
   "metadata": {},
   "outputs": [
    {
     "name": "stdout",
     "output_type": "stream",
     "text": [
      "<Record movie.title='The Matrix'>\n",
      "<Record movie.title='The Matrix Reloaded'>\n",
      "<Record movie.title='The Matrix Revolutions'>\n",
      "<Record movie.title=\"The Devil's Advocate\">\n",
      "<Record movie.title='A Few Good Men'>\n",
      "<Record movie.title='Top Gun'>\n",
      "<Record movie.title='Jerry Maguire'>\n",
      "<Record movie.title='Stand By Me'>\n",
      "<Record movie.title='As Good as It Gets'>\n",
      "<Record movie.title='Snow Falling on Cedars'>\n",
      "<Record movie.title='Sleepless in Seattle'>\n",
      "<Record movie.title='Joe Versus the Volcano'>\n",
      "<Record movie.title='That Thing You Do'>\n",
      "<Record movie.title='The Replacements'>\n",
      "<Record movie.title='RescueDawn'>\n",
      "<Record movie.title='The Birdcage'>\n",
      "<Record movie.title='Unforgiven'>\n",
      "<Record movie.title='Johnny Mnemonic'>\n",
      "<Record movie.title='Cloud Atlas'>\n",
      "<Record movie.title='The Da Vinci Code'>\n",
      "<Record movie.title='V for Vendetta'>\n",
      "<Record movie.title='Speed Racer'>\n",
      "<Record movie.title='Ninja Assassin'>\n",
      "<Record movie.title='The Green Mile'>\n",
      "<Record movie.title='Frost/Nixon'>\n",
      "<Record movie.title='Hoffa'>\n",
      "<Record movie.title='Apollo 13'>\n",
      "<Record movie.title='Twister'>\n",
      "<Record movie.title='Cast Away'>\n",
      "<Record movie.title=\"One Flew Over the Cuckoo's Nest\">\n",
      "<Record movie.title=\"Something's Gotta Give\">\n",
      "<Record movie.title='Bicentennial Man'>\n",
      "<Record movie.title=\"Charlie Wilson's War\">\n",
      "<Record movie.title='The Polar Express'>\n",
      "<Record movie.title='A League of Their Own'>\n",
      "<Record movie.title='Parasite'>\n",
      "<Record movie.title='Joker'>\n"
     ]
    }
   ],
   "source": [
    "q1 = 'match (movie : Movie) where not movie.released = 1998 return movie.title'\n",
    "nodes = session.run(q1)\n",
    "for node in nodes:\n",
    "    print (node)"
   ]
  },
  {
   "attachments": {},
   "cell_type": "markdown",
   "metadata": {},
   "source": [
    "Movies released in a span"
   ]
  },
  {
   "cell_type": "code",
   "execution_count": 28,
   "metadata": {},
   "outputs": [
    {
     "name": "stdout",
     "output_type": "stream",
     "text": [
      "<Record movie.title='The Matrix'>\n",
      "<Record movie.title='Jerry Maguire'>\n",
      "<Record movie.title='What Dreams May Come'>\n",
      "<Record movie.title='Snow Falling on Cedars'>\n",
      "<Record movie.title=\"You've Got Mail\">\n",
      "<Record movie.title='When Harry Met Sally'>\n",
      "<Record movie.title='The Replacements'>\n",
      "<Record movie.title='The Green Mile'>\n",
      "<Record movie.title='Cast Away'>\n",
      "<Record movie.title='Bicentennial Man'>\n"
     ]
    }
   ],
   "source": [
    "q1 = 'match (movie : Movie) where movie.released >=1998 and movie.released <= 2000 return movie.title'\n",
    "nodes = session.run(q1)\n",
    "for node in nodes:\n",
    "    print (node)"
   ]
  },
  {
   "attachments": {},
   "cell_type": "markdown",
   "metadata": {},
   "source": [
    "First 5 movies released "
   ]
  },
  {
   "cell_type": "code",
   "execution_count": 30,
   "metadata": {},
   "outputs": [
    {
     "name": "stdout",
     "output_type": "stream",
     "text": [
      "<Record movie.title=\"One Flew Over the Cuckoo's Nest\">\n",
      "<Record movie.title='Top Gun'>\n",
      "<Record movie.title='Stand By Me'>\n",
      "<Record movie.title='Joe Versus the Volcano'>\n",
      "<Record movie.title='A Few Good Men'>\n"
     ]
    }
   ],
   "source": [
    "q1 = 'match(movie : Movie) return movie.title order by movie.released limit 5 '\n",
    "nodes = session.run(q1)\n",
    "for node in nodes:\n",
    "    print (node)"
   ]
  },
  {
   "cell_type": "code",
   "execution_count": 31,
   "metadata": {},
   "outputs": [
    {
     "name": "stdout",
     "output_type": "stream",
     "text": [
      "<Record movie.title='Parasite'>\n",
      "<Record movie.title='Joker'>\n",
      "<Record movie.title='Cloud Atlas'>\n",
      "<Record movie.title='Ninja Assassin'>\n",
      "<Record movie.title='Frost/Nixon'>\n"
     ]
    }
   ],
   "source": [
    "q1 = 'match(movie : Movie) return movie.title order by movie.released desc limit 5 '\n",
    "nodes = session.run(q1)\n",
    "for node in nodes:\n",
    "    print (node)"
   ]
  },
  {
   "cell_type": "code",
   "execution_count": 32,
   "metadata": {},
   "outputs": [
    {
     "name": "stdout",
     "output_type": "stream",
     "text": [
      "<Record movie.title='The Da Vinci Code'>\n",
      "<Record movie.title='Frost/Nixon'>\n",
      "<Record movie.title='Apollo 13'>\n"
     ]
    }
   ],
   "source": [
    "q1 = 'match (director : Person) -[:DIRECTED] -> (movie: Movie) where director.name= \"Ron Howard\" return movie.title'\n",
    "nodes = session.run(q1)\n",
    "for node in nodes:\n",
    "    print (node)"
   ]
  },
  {
   "cell_type": "code",
   "execution_count": null,
   "metadata": {},
   "outputs": [],
   "source": []
  }
 ],
 "metadata": {
  "kernelspec": {
   "display_name": "base",
   "language": "python",
   "name": "python3"
  },
  "language_info": {
   "codemirror_mode": {
    "name": "ipython",
    "version": 3
   },
   "file_extension": ".py",
   "mimetype": "text/x-python",
   "name": "python",
   "nbconvert_exporter": "python",
   "pygments_lexer": "ipython3",
   "version": "3.9.13"
  },
  "orig_nbformat": 4,
  "vscode": {
   "interpreter": {
    "hash": "e9c4a1b3ec221813c4310e7166dd947b2e9fd2a755a817cfa319da42270b82dd"
   }
  }
 },
 "nbformat": 4,
 "nbformat_minor": 2
}
