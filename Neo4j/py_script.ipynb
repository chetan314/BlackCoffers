{
 "cells": [
  {
   "cell_type": "markdown",
   "metadata": {},
   "source": [
    "## Setting up the authorization "
   ]
  },
  {
   "cell_type": "code",
   "execution_count": 23,
   "metadata": {},
   "outputs": [],
   "source": [
    "from neo4j import GraphDatabase\n",
    "graphdb = GraphDatabase.driver(uri = \"bolt://localhost:7687\" , auth = ( \"neo4j\", 'chetan08'))\n",
    "session = graphdb.session() "
   ]
  },
  {
   "cell_type": "code",
   "execution_count": 25,
   "metadata": {},
   "outputs": [
    {
     "name": "stdout",
     "output_type": "stream",
     "text": [
      "<Record n=<Node element_id='4:08f8f359-826e-44ce-aaee-19141189403e:0' labels=frozenset({'PLAYER'}) properties={'country': 'Portugal', 'assists': 7, 'name': 'Bruno Fernandes', 'age': 28, 'goals': 15}>>\n",
      "<Record n=<Node element_id='4:08f8f359-826e-44ce-aaee-19141189403e:1' labels=frozenset({'PLAYER'}) properties={'country': 'England', 'assists': 12, 'name': 'Marcus Rashford', 'age': 24, 'goals': 29}>>\n",
      "<Record n=<Node element_id='4:08f8f359-826e-44ce-aaee-19141189403e:2' labels=frozenset({'PLAYER'}) properties={'country': 'Portugal', 'assists': 7, 'name': 'Christiano Ronaldo', 'age': 37, 'goals': 27}>>\n",
      "<Record n=<Node element_id='4:08f8f359-826e-44ce-aaee-19141189403e:3' labels=frozenset({'PLAYER'}) properties={'country': 'Norway', 'assists': 6, 'name': 'Erling Haaland', 'age': 22, 'goals': 15}>>\n",
      "<Record n=<Node element_id='4:08f8f359-826e-44ce-aaee-19141189403e:4' labels=frozenset({'PLAYER'}) properties={'country': 'Egypt', 'assists': 8, 'name': 'Mohammed Salah', 'age': 31, 'goals': 13}>>\n",
      "<Record n=<Node element_id='4:08f8f359-826e-44ce-aaee-19141189403e:5' labels=frozenset({'PLAYER'}) properties={'country': 'Uruguay', 'assists': 7, 'name': 'Darwin Nunez', 'age': 21, 'goals': 18}>>\n",
      "<Record n=<Node element_id='4:08f8f359-826e-44ce-aaee-19141189403e:6' labels=frozenset({'PLAYER'}) properties={'country': 'Brazil', 'assists': 11, 'name': 'Vinicius Junior', 'age': 21, 'goals': 17}>>\n",
      "<Record n=<Node element_id='4:08f8f359-826e-44ce-aaee-19141189403e:7' labels=frozenset({'PLAYER'}) properties={'country': 'France', 'assists': 10, 'name': 'Karim Benzema', 'age': 34, 'goals': 18}>>\n",
      "<Record n=<Node element_id='4:08f8f359-826e-44ce-aaee-19141189403e:8' labels=frozenset({'PLAYER'}) properties={'country': 'Argentina', 'assists': 11, 'name': 'Lionel Messi', 'age': 34, 'goals': 21}>>\n",
      "<Record n=<Node element_id='4:08f8f359-826e-44ce-aaee-19141189403e:9' labels=frozenset({'PLAYER'}) properties={'country': 'France', 'assists': 12, 'name': 'Neymar Junior', 'age': 22, 'goals': 25}>>\n",
      "<Record n=<Node element_id='4:08f8f359-826e-44ce-aaee-19141189403e:10' labels=frozenset({'PLAYER'}) properties={'country': 'England', 'assists': 17, 'name': 'Harry Kane', 'age': 28, 'goals': 17}>>\n",
      "<Record n=<Node element_id='4:08f8f359-826e-44ce-aaee-19141189403e:11' labels=frozenset({'PLAYER'}) properties={'country': 'Korea', 'assists': 7, 'name': 'Ming Son', 'age': 29, 'goals': 7}>>\n",
      "<Record n=<Node element_id='4:08f8f359-826e-44ce-aaee-19141189403e:12' labels=frozenset({'TEAM'}) properties={'name': 'Manchester United'}>>\n",
      "<Record n=<Node element_id='4:08f8f359-826e-44ce-aaee-19141189403e:13' labels=frozenset({'TEAM'}) properties={'name': 'Manchester City'}>>\n",
      "<Record n=<Node element_id='4:08f8f359-826e-44ce-aaee-19141189403e:14' labels=frozenset({'TEAM'}) properties={'name': 'Liverpool'}>>\n",
      "<Record n=<Node element_id='4:08f8f359-826e-44ce-aaee-19141189403e:15' labels=frozenset({'TEAM'}) properties={'name': 'Real Madrid'}>>\n",
      "<Record n=<Node element_id='4:08f8f359-826e-44ce-aaee-19141189403e:16' labels=frozenset({'TEAM'}) properties={'name': 'PSG'}>>\n",
      "<Record n=<Node element_id='4:08f8f359-826e-44ce-aaee-19141189403e:17' labels=frozenset({'TEAM'}) properties={'name': 'Spurs'}>>\n",
      "<Record n=<Node element_id='4:08f8f359-826e-44ce-aaee-19141189403e:18' labels=frozenset({'COACH'}) properties={'name': 'Eric Ten Hag'}>>\n",
      "<Record n=<Node element_id='4:08f8f359-826e-44ce-aaee-19141189403e:19' labels=frozenset({'COACH'}) properties={'name': 'Pep Guardiola'}>>\n",
      "<Record n=<Node element_id='4:08f8f359-826e-44ce-aaee-19141189403e:20' labels=frozenset({'COACH'}) properties={'name': 'Jurgen Klopp'}>>\n",
      "<Record n=<Node element_id='4:08f8f359-826e-44ce-aaee-19141189403e:21' labels=frozenset({'COACH'}) properties={'name': 'Carlo Ancelotti'}>>\n",
      "<Record n=<Node element_id='4:08f8f359-826e-44ce-aaee-19141189403e:22' labels=frozenset({'COACH'}) properties={'name': 'Christopher Galtier'}>>\n",
      "<Record n=<Node element_id='4:08f8f359-826e-44ce-aaee-19141189403e:23' labels=frozenset({'COACH'}) properties={'name': 'Antonio Konte'}>>\n"
     ]
    }
   ],
   "source": [
    "q1 = 'match (n) return (n)'\n",
    "nodes = session.run(q1)\n",
    "for node in nodes: \n",
    "    print (node)"
   ]
  },
  {
   "cell_type": "code",
   "execution_count": null,
   "metadata": {},
   "outputs": [],
   "source": []
  }
 ],
 "metadata": {
  "kernelspec": {
   "display_name": "base",
   "language": "python",
   "name": "python3"
  },
  "language_info": {
   "codemirror_mode": {
    "name": "ipython",
    "version": 3
   },
   "file_extension": ".py",
   "mimetype": "text/x-python",
   "name": "python",
   "nbconvert_exporter": "python",
   "pygments_lexer": "ipython3",
   "version": "3.9.13"
  },
  "orig_nbformat": 4,
  "vscode": {
   "interpreter": {
    "hash": "e9c4a1b3ec221813c4310e7166dd947b2e9fd2a755a817cfa319da42270b82dd"
   }
  }
 },
 "nbformat": 4,
 "nbformat_minor": 2
}
